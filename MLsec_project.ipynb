{
  "nbformat": 4,
  "nbformat_minor": 0,
  "metadata": {
    "colab": {
      "provenance": [],
      "gpuType": "T4",
      "include_colab_link": true
    },
    "kernelspec": {
      "name": "python3",
      "display_name": "Python 3"
    },
    "language_info": {
      "name": "python"
    },
    "accelerator": "GPU"
  },
  "cells": [
    {
      "cell_type": "markdown",
      "metadata": {
        "id": "view-in-github",
        "colab_type": "text"
      },
      "source": [
        "<a href=\"https://colab.research.google.com/github/manuelboi/MLsec_project/blob/main/MLsec_project.ipynb\" target=\"_parent\"><img src=\"https://colab.research.google.com/assets/colab-badge.svg\" alt=\"Open In Colab\"/></a>"
      ]
    },
    {
      "cell_type": "markdown",
      "source": [
        "## Models:\n",
        "1. Fixing Data Augmentation to Improve Adversarial Robustness\n",
        "2. Robust Learning Meets Generative Models: Can Proxy Distributions Improve Adversarial Robustness?\n",
        "3. MMA Training: Direct Input Space Margin Maximization through Adversarial Training"
      ],
      "metadata": {
        "id": "CcZOaHCtHRqF"
      }
    },
    {
      "cell_type": "markdown",
      "source": [
        "# General imports"
      ],
      "metadata": {
        "id": "CHr8lWVj_FFu"
      }
    },
    {
      "cell_type": "code",
      "execution_count": 1,
      "metadata": {
        "id": "CzCcoczZsmbn",
        "collapsed": true
      },
      "outputs": [],
      "source": [
        "%%capture\n",
        "\n",
        "# Various\n",
        "import matplotlib.pyplot as plt\n",
        "import time\n",
        "import importlib.util\n",
        "import re\n",
        "\n",
        "# Pytorch\n",
        "import torch\n",
        "from torch.utils.data import DataLoader, Subset\n",
        "from torch.nn import CrossEntropyLoss\n",
        "from torch.optim import SGD, Optimizer\n",
        "from torch.optim.lr_scheduler import StepLR\n",
        "import torchvision\n",
        "from torchvision.datasets import CIFAR10\n",
        "import torchvision.transforms as transforms\n",
        "\n",
        "# RobustBench\n",
        "!pip install git+https://github.com/manuelboi/robustbench\n",
        "from robustbench.utils import load_model\n",
        "from robustbench.eval import benchmark\n",
        "from robustbench.data import load_cifar10\n",
        "from robustbench.model_zoo.enums import ThreatModel\n",
        "\n",
        "# Smoothing\n",
        "!git clone https://github.com/matteoturnu/smoothing.git\n",
        "!conda create -n smoothing\n",
        "!conda activate smoothing\n",
        "!conda install pytorch torchvision cudatoolkit=10.0 -c pytorch\n",
        "!conda install scipy pandas statsmodels matplotlib seaborn\n",
        "!pip install setGPU\n",
        "from smoothing.code.core import Smooth\n",
        "from smoothing.code.train import train, test\n",
        "from smoothing.code.train_utils import AverageMeter, accuracy"
      ]
    },
    {
      "cell_type": "markdown",
      "source": [
        "# Setup"
      ],
      "metadata": {
        "id": "bRZkGSpiPFiT"
      }
    },
    {
      "cell_type": "code",
      "source": [
        "%%capture\n",
        "\n",
        "# Set labels\n",
        "labels_dct = {0: \"airplane\", 1: \"automobile\", 2: \"bird\", 3: \"cat\", 4: \"deer\", 5: \"dog\", 6: \"frog\", 7: \"horse\", 8: \"ship\", 9: \"truck\"}\n",
        "\n",
        "# Use GPU if available, otherwise use CPU\n",
        "device = torch.device('cuda:0' if torch.cuda.is_available() else 'cpu')\n",
        "print(\"Computing device used: \", device)\n",
        "\n",
        "# Preparing trainset and testset\n",
        "transform = transforms.Compose(\n",
        "    [transforms.ToTensor(),\n",
        "     transforms.Normalize((0.5, 0.5, 0.5), (0.5, 0.5, 0.5))])\n",
        "\n",
        "# Set trainset and testset\n",
        "trainset = torchvision.datasets.CIFAR10(root='./data', train=True, download=True, transform=transform)\n",
        "testset = torchvision.datasets.CIFAR10(root='./data', train=False, download=True, transform=transform)\n",
        "\n",
        "# Define the number of samples you want to take from the whole dataset\n",
        "num_samples = 1000\n",
        "\n",
        "# Create a subset of the dataset with the chosen number of samples\n",
        "indices = list(range(num_samples))\n",
        "train_subset = Subset(trainset, indices)\n",
        "test_subset = Subset(testset, indices)\n",
        "\n",
        "# Preparing trainloader and testloader\n",
        "batch_size = 64\n",
        "trainloader = torch.utils.data.DataLoader(train_subset, batch_size=batch_size, shuffle=True, num_workers=2)\n",
        "testloader = torch.utils.data.DataLoader(test_subset, batch_size=batch_size, shuffle=False, num_workers=2)\n",
        "\n",
        "# Load test samples for predict and certify\n",
        "n_test_samples_benchmark = 100\n",
        "x_test, y_test = load_cifar10(n_test_samples_benchmark)\n",
        "x_test, y_test = x_test.to(device), y_test.to(device)\n",
        "\n",
        "# Setting various parameters\n",
        "epochs = 3 # used for training\n",
        "sigma = 0.5 # gaussian noise standard deviation\n",
        "n_examples = 20 # to be perturbed by AutoAttack\n",
        "eps_L2 = 0.5 # epsilon of the perturbancy for L2 norm\n",
        "eps_Linf = 8/255 # epsilon of the perturbancy with Linf norm\n",
        "version = 'custom'\n",
        "attacks_to_run=['apgd-ce', 'apgd-dlr'] # Attacks to run on the models"
      ],
      "metadata": {
        "id": "ur-xfxzJPEo3"
      },
      "execution_count": 2,
      "outputs": []
    },
    {
      "cell_type": "markdown",
      "source": [
        "# Functions"
      ],
      "metadata": {
        "id": "QwmN0U3EC3To"
      }
    },
    {
      "cell_type": "markdown",
      "source": [
        "Function to compact donwload and configuration of the model"
      ],
      "metadata": {
        "id": "eWnSWe-pEldG"
      }
    },
    {
      "cell_type": "code",
      "source": [
        "def load_configure_model(name, dataset, threat_model, device):\n",
        "  # Download model from robustbench\n",
        "  model = load_model(model_name=name, dataset=dataset, threat_model=threat_model)\n",
        "\n",
        "  # Set model to the chosen device\n",
        "  model = model.to(device)\n",
        "\n",
        "  # Set model in eval mode\n",
        "  model.eval()\n",
        "\n",
        "  return model"
      ],
      "metadata": {
        "id": "WfH7lE2U_b71"
      },
      "execution_count": 3,
      "outputs": []
    },
    {
      "cell_type": "markdown",
      "source": [
        "Function for smooth model training"
      ],
      "metadata": {
        "id": "Symqohu2KxSX"
      }
    },
    {
      "cell_type": "code",
      "source": [
        "def train_model(trainloader, testloader, model, epochs, sigma, device):\n",
        "  criterion = CrossEntropyLoss().to(device)\n",
        "  optimizer = SGD(model.parameters())\n",
        "  scheduler = StepLR(optimizer, step_size=30)\n",
        "\n",
        "  for epoch in range(epochs):\n",
        "    scheduler.step(epoch)\n",
        "    before = time.time()\n",
        "    train_loss, train_acc = train(trainloader, model, criterion, optimizer, epoch, sigma, device)\n",
        "    test_loss, test_acc = test(testloader, model, criterion, epoch, sigma, device)\n",
        "    after = time.time()\n",
        "\n",
        "  return model"
      ],
      "metadata": {
        "id": "cntdRl_hD0TB"
      },
      "execution_count": 4,
      "outputs": []
    },
    {
      "cell_type": "markdown",
      "source": [
        "Function for measuring performances on smooth model"
      ],
      "metadata": {
        "id": "1w6B16vREnO2"
      }
    },
    {
      "cell_type": "code",
      "source": [
        "def certify(model, sigma, x_text, y_test, L):\n",
        "  n_classes = 10\n",
        "  alpha = 0.5 # (1 - alpha) is the confidence level (in this case is 50%)\n",
        "  n0 = 10 # number of samples for selection\n",
        "  n = 20 # number of samples for estimation (certify) (too few samples but computation time is strongly affected with more)\n",
        "\n",
        "  smooth_model = Smooth(model, n_classes, sigma)\n",
        "\n",
        "  top_classes = list()\n",
        "  radiuses = list()\n",
        "  for x, y in zip(x_test, y_test):\n",
        "    top_class = smooth_model.predict(x, n0, alpha, batch_size=n0, device=device,)\n",
        "    top_class, radius = smooth_model.certify(x, n0, n, alpha, batch_size=n0, device=device, L=L)\n",
        "    top_classes.append(top_class)\n",
        "    radiuses.append(radius)\n",
        "\n",
        "  top_classes = torch.tensor(top_classes, dtype=torch.float64).to(device)\n",
        "  accuracy = torch.mean(top_classes == y_test, dtype=torch.float64)\n",
        "  print(\"Radiuses list: \", radiuses)\n",
        "  radius = torch.mean(torch.Tensor(radiuses), dtype=torch.float64)\n",
        "\n",
        "\n",
        "  print(\"Top classes: \", top_classes)\n",
        "  print(\"Y classes: \", y_test)\n",
        "  print(f\"Average radious found by certify: {float(radius.item())}\")\n",
        "  percentage = float(accuracy.item()) * 100\n",
        "  print(f\"Accuracy found by certify function: {percentage:.2f}%\")"
      ],
      "metadata": {
        "id": "tGu5x_t8EabV"
      },
      "execution_count": 21,
      "outputs": []
    },
    {
      "cell_type": "markdown",
      "source": [
        "Function to compact test of the model with certification and AutoAttack"
      ],
      "metadata": {
        "id": "NqyswXEcFB_I"
      }
    },
    {
      "cell_type": "code",
      "source": [
        "def test_model(model, sigma, x_test, y_test, norm, threat_model, n_examples, eps, batch_size, device, version, attacks_to_run):\n",
        "  # Model prediction and certification on smoothed samples\n",
        "  certify(model, sigma, x_test, y_test, norm)\n",
        "\n",
        "  # AutoAttack on given model\n",
        "  benchmark(model,\n",
        "            threat_model=threat_model,\n",
        "            n_examples=n_examples,\n",
        "            eps=eps,\n",
        "            batch_size=batch_size,\n",
        "            device=device,\n",
        "            version=version,\n",
        "            attacks_to_run=attacks_to_run)"
      ],
      "metadata": {
        "id": "MW9m9mnr3jlc"
      },
      "execution_count": 12,
      "outputs": []
    },
    {
      "cell_type": "markdown",
      "source": [
        "# Fixing Data Augmentation to Improve Adversarial Robustness (WideResNet-70-16)"
      ],
      "metadata": {
        "id": "RmnI2rBDeOEx"
      }
    },
    {
      "cell_type": "markdown",
      "source": [
        "L2"
      ],
      "metadata": {
        "id": "AvnvKSRLBp9o"
      }
    },
    {
      "cell_type": "code",
      "source": [
        "# Model loading\n",
        "model_1_L2 = load_configure_model(name='Rebuffi2021Fixing_70_16_cutmix_extra', dataset='cifar10', threat_model='L2', device=device)\n",
        "\n",
        "# Test on stock model\n",
        "test_model(model_1_L2, sigma, x_test, y_test, 'L2', ThreatModel.L2, n_examples, eps_L2, batch_size, device, version, attacks_to_run)\n",
        "\n",
        "# Smoothed model training\n",
        "smoothed_model_1_L2 = train_model(trainloader, testloader, model_1_L2, epochs, sigma, device)\n",
        "\n",
        "# Test on smoothed model\n",
        "test_model(smoothed_model_1_L2, sigma, x_test, y_test, 'L2', ThreatModel.L2, n_examples, eps_L2, batch_size, device, version, attacks_to_run)"
      ],
      "metadata": {
        "id": "TbLV6iYN_UuY",
        "colab": {
          "base_uri": "https://localhost:8080/"
        },
        "outputId": "b6290a74-d12a-4e1c-b76d-ea4475376319",
        "collapsed": true
      },
      "execution_count": 13,
      "outputs": [
        {
          "output_type": "stream",
          "name": "stderr",
          "text": [
            "/usr/local/lib/python3.10/dist-packages/robustbench/utils.py:165: FutureWarning: You are using `torch.load` with `weights_only=False` (the current default value), which uses the default pickle module implicitly. It is possible to construct malicious pickle data which will execute arbitrary code during unpickling (See https://github.com/pytorch/pytorch/blob/main/SECURITY.md#untrusted-models for more details). In a future release, the default value for `weights_only` will be flipped to `True`. This limits the functions that could be executed during unpickling. Arbitrary objects will no longer be allowed to be loaded via this mode unless they are explicitly allowlisted by the user via `torch.serialization.add_safe_globals`. We recommend you start setting `weights_only=True` for any use case where you don't have full control of the loaded file. Please open an issue on GitHub for any issues related to this experimental feature.\n",
            "  checkpoint = torch.load(model_path, map_location=torch.device('cpu'))\n"
          ]
        },
        {
          "output_type": "stream",
          "name": "stdout",
          "text": [
            "Top classes:  tensor([3., 3., 3., 3., 3., 3., 3., 3., 3., 3., 3., 3., 3., 3., 3., 3., 3., 3.,\n",
            "        3., 3., 3., 3., 3., 3., 3., 3., 3., 3., 3., 3., 3., 3., 3., 3., 3., 3.,\n",
            "        3., 3., 3., 3., 3., 3., 3., 3., 3., 3., 3., 3., 3., 3., 3., 3., 3., 3.,\n",
            "        3., 3., 3., 3., 3., 3., 3., 3., 3., 3., 3., 3., 3., 3., 3., 3., 3., 3.,\n",
            "        3., 3., 3., 3., 3., 3., 3., 3., 3., 3., 3., 3., 3., 3., 3., 3., 3., 3.,\n",
            "        3., 3., 3., 3., 3., 3., 3., 3., 3., 3.], device='cuda:0',\n",
            "       dtype=torch.float64)\n",
            "Y classes:  tensor([3, 8, 8, 0, 6, 6, 1, 6, 3, 1, 0, 9, 5, 7, 9, 8, 5, 7, 8, 6, 7, 0, 4, 9,\n",
            "        5, 2, 4, 0, 9, 6, 6, 5, 4, 5, 9, 2, 4, 1, 9, 5, 4, 6, 5, 6, 0, 9, 3, 9,\n",
            "        7, 6, 9, 8, 0, 3, 8, 8, 7, 7, 4, 6, 7, 3, 6, 3, 6, 2, 1, 2, 3, 7, 2, 6,\n",
            "        8, 8, 0, 2, 9, 3, 3, 8, 8, 1, 1, 7, 2, 5, 2, 7, 8, 9, 0, 3, 8, 6, 4, 6,\n",
            "        6, 0, 0, 7], device='cuda:0')\n",
            "Average radious found by certify: inf\n",
            "Accuracy found by certify function: 10.00%\n",
            "Files already downloaded and verified\n",
            "Clean accuracy: 100.00%\n",
            "using custom version including apgd-ce, apgd-dlr.\n"
          ]
        },
        {
          "output_type": "stream",
          "name": "stderr",
          "text": [
            "\n",
            "PYDEV DEBUGGER WARNING:\n",
            "sys.settrace() should not be used when the debugger is being used.\n",
            "This may cause the debugger to stop working correctly.\n",
            "If this is needed, please check: \n",
            "http://pydev.blogspot.com/2007/06/why-cant-pydev-debugger-work-with.html\n",
            "to see how to restore the debug tracing back correctly.\n",
            "Call Location:\n",
            "  File \"/usr/local/lib/python3.10/dist-packages/autoattack/checks.py\", line 100, in check_dynamic\n",
            "    sys.settrace(tracefunc)\n",
            "\n",
            "\n",
            "PYDEV DEBUGGER WARNING:\n",
            "sys.settrace() should not be used when the debugger is being used.\n",
            "This may cause the debugger to stop working correctly.\n",
            "If this is needed, please check: \n",
            "http://pydev.blogspot.com/2007/06/why-cant-pydev-debugger-work-with.html\n",
            "to see how to restore the debug tracing back correctly.\n",
            "Call Location:\n",
            "  File \"/usr/local/lib/python3.10/dist-packages/autoattack/checks.py\", line 102, in check_dynamic\n",
            "    sys.settrace(None)\n",
            "\n"
          ]
        },
        {
          "output_type": "stream",
          "name": "stdout",
          "text": [
            "initial accuracy: 100.00%\n",
            "apgd-ce - 1/1 - 1 out of 20 successfully perturbed\n",
            "robust accuracy after APGD-CE: 95.00% (total time 287.8 s)\n",
            "apgd-dlr - 1/1 - 1 out of 19 successfully perturbed\n",
            "robust accuracy after APGD-DLR: 90.00% (total time 571.9 s)\n",
            "max L2 perturbation: 0.50000, nan in tensor: 0, max: 1.00000, min: 0.00000\n",
            "robust accuracy: 90.00%\n",
            "Adversarial accuracy: 90.00%\n"
          ]
        },
        {
          "output_type": "stream",
          "name": "stderr",
          "text": [
            "/usr/local/lib/python3.10/dist-packages/torch/optim/lr_scheduler.py:216: UserWarning: Detected call of `lr_scheduler.step()` before `optimizer.step()`. In PyTorch 1.1.0 and later, you should call them in the opposite order: `optimizer.step()` before `lr_scheduler.step()`.  Failure to do this will result in PyTorch skipping the first value of the learning rate schedule. See more details at https://pytorch.org/docs/stable/optim.html#how-to-adjust-learning-rate\n",
            "  warnings.warn(\n",
            "/usr/local/lib/python3.10/dist-packages/torch/optim/lr_scheduler.py:232: UserWarning: The epoch parameter in `scheduler.step()` was not necessary and is being deprecated where possible. Please use `scheduler.step()` to step the scheduler. During the deprecation, if epoch is different from None, the closed form is used instead of the new chainable form, where available. Please open an issue if you are unable to replicate your use case: https://github.com/pytorch/pytorch/issues/new/choose.\n",
            "  warnings.warn(EPOCH_DEPRECATION_WARNING, UserWarning)\n"
          ]
        },
        {
          "output_type": "stream",
          "name": "stdout",
          "text": [
            "Epoch: [0][0/16]\tTime 2.158 (2.158)\tData 0.199 (0.199)\tLoss 0.6067 (0.6067)\tAcc@1 82.812 (82.812)\tAcc@5 100.000 (100.000)\n",
            "Epoch: [0][1/16]\tTime 0.610 (1.384)\tData 0.014 (0.106)\tLoss 0.5613 (0.5840)\tAcc@1 84.375 (83.594)\tAcc@5 96.875 (98.438)\n",
            "Epoch: [0][2/16]\tTime 1.775 (1.515)\tData 0.004 (0.072)\tLoss 0.4305 (0.5329)\tAcc@1 87.500 (84.896)\tAcc@5 100.000 (98.958)\n",
            "Epoch: [0][3/16]\tTime 1.753 (1.574)\tData 0.002 (0.055)\tLoss 0.4194 (0.5045)\tAcc@1 95.312 (87.500)\tAcc@5 98.438 (98.828)\n",
            "Epoch: [0][4/16]\tTime 1.758 (1.611)\tData 0.003 (0.044)\tLoss 0.4167 (0.4869)\tAcc@1 89.062 (87.812)\tAcc@5 100.000 (99.062)\n",
            "Epoch: [0][5/16]\tTime 1.757 (1.635)\tData 0.003 (0.037)\tLoss 0.5305 (0.4942)\tAcc@1 84.375 (87.240)\tAcc@5 100.000 (99.219)\n",
            "Epoch: [0][6/16]\tTime 1.762 (1.653)\tData 0.003 (0.032)\tLoss 0.3765 (0.4774)\tAcc@1 92.188 (87.946)\tAcc@5 100.000 (99.330)\n",
            "Epoch: [0][7/16]\tTime 1.759 (1.667)\tData 0.003 (0.029)\tLoss 0.4343 (0.4720)\tAcc@1 95.312 (88.867)\tAcc@5 100.000 (99.414)\n",
            "Epoch: [0][8/16]\tTime 1.761 (1.677)\tData 0.003 (0.026)\tLoss 0.3761 (0.4613)\tAcc@1 93.750 (89.410)\tAcc@5 100.000 (99.479)\n",
            "Epoch: [0][9/16]\tTime 1.755 (1.685)\tData 0.014 (0.025)\tLoss 0.3965 (0.4549)\tAcc@1 90.625 (89.531)\tAcc@5 98.438 (99.375)\n",
            "Epoch: [0][10/16]\tTime 1.761 (1.692)\tData 0.003 (0.023)\tLoss 0.3434 (0.4447)\tAcc@1 96.875 (90.199)\tAcc@5 100.000 (99.432)\n",
            "Epoch: [0][11/16]\tTime 1.763 (1.698)\tData 0.003 (0.021)\tLoss 0.3432 (0.4363)\tAcc@1 95.312 (90.625)\tAcc@5 100.000 (99.479)\n",
            "Epoch: [0][12/16]\tTime 1.757 (1.702)\tData 0.003 (0.020)\tLoss 0.3574 (0.4302)\tAcc@1 90.625 (90.625)\tAcc@5 100.000 (99.519)\n",
            "Epoch: [0][13/16]\tTime 1.760 (1.706)\tData 0.002 (0.018)\tLoss 0.3283 (0.4229)\tAcc@1 96.875 (91.071)\tAcc@5 100.000 (99.554)\n",
            "Epoch: [0][14/16]\tTime 1.762 (1.710)\tData 0.002 (0.017)\tLoss 0.3551 (0.4184)\tAcc@1 90.625 (91.042)\tAcc@5 100.000 (99.583)\n",
            "Epoch: [0][15/16]\tTime 2.396 (1.753)\tData 0.002 (0.016)\tLoss 0.5494 (0.4236)\tAcc@1 82.500 (90.700)\tAcc@5 97.500 (99.500)\n",
            "Epoch: [0][0/16]\tTime 0.706 (0.706)\tData 0.191 (0.191)\tLoss 0.6801 (0.6801)\tAcc@1 81.250 (81.250)\tAcc@5 96.875 (96.875)\n",
            "Epoch: [0][1/16]\tTime 0.567 (0.637)\tData 0.014 (0.103)\tLoss 0.6782 (0.6792)\tAcc@1 79.688 (80.469)\tAcc@5 100.000 (98.438)\n",
            "Epoch: [0][2/16]\tTime 0.526 (0.600)\tData 0.004 (0.070)\tLoss 0.5892 (0.6492)\tAcc@1 82.812 (81.250)\tAcc@5 100.000 (98.958)\n",
            "Epoch: [0][3/16]\tTime 0.556 (0.589)\tData 0.008 (0.054)\tLoss 0.6946 (0.6606)\tAcc@1 81.250 (81.250)\tAcc@5 95.312 (98.047)\n",
            "Epoch: [0][4/16]\tTime 0.530 (0.577)\tData 0.003 (0.044)\tLoss 0.7416 (0.6768)\tAcc@1 78.125 (80.625)\tAcc@5 98.438 (98.125)\n",
            "Epoch: [0][5/16]\tTime 0.549 (0.572)\tData 0.003 (0.037)\tLoss 0.6776 (0.6769)\tAcc@1 84.375 (81.250)\tAcc@5 98.438 (98.177)\n",
            "Epoch: [0][6/16]\tTime 0.538 (0.567)\tData 0.003 (0.032)\tLoss 0.7117 (0.6819)\tAcc@1 73.438 (80.134)\tAcc@5 100.000 (98.438)\n",
            "Epoch: [0][7/16]\tTime 0.547 (0.565)\tData 0.003 (0.029)\tLoss 0.6824 (0.6819)\tAcc@1 79.688 (80.078)\tAcc@5 98.438 (98.438)\n",
            "Epoch: [0][8/16]\tTime 0.537 (0.562)\tData 0.003 (0.026)\tLoss 0.5401 (0.6662)\tAcc@1 87.500 (80.903)\tAcc@5 100.000 (98.611)\n",
            "Epoch: [0][9/16]\tTime 0.552 (0.561)\tData 0.003 (0.023)\tLoss 0.6008 (0.6597)\tAcc@1 85.938 (81.406)\tAcc@5 100.000 (98.750)\n",
            "Epoch: [0][10/16]\tTime 0.540 (0.559)\tData 0.003 (0.022)\tLoss 0.8753 (0.6793)\tAcc@1 68.750 (80.256)\tAcc@5 98.438 (98.722)\n",
            "Epoch: [0][11/16]\tTime 0.548 (0.558)\tData 0.003 (0.020)\tLoss 0.5144 (0.6655)\tAcc@1 87.500 (80.859)\tAcc@5 98.438 (98.698)\n",
            "Epoch: [0][12/16]\tTime 0.544 (0.557)\tData 0.003 (0.019)\tLoss 0.7579 (0.6726)\tAcc@1 75.000 (80.409)\tAcc@5 98.438 (98.678)\n",
            "Epoch: [0][13/16]\tTime 0.549 (0.556)\tData 0.003 (0.018)\tLoss 0.6218 (0.6690)\tAcc@1 79.688 (80.357)\tAcc@5 98.438 (98.661)\n",
            "Epoch: [0][14/16]\tTime 0.542 (0.555)\tData 0.003 (0.017)\tLoss 0.5786 (0.6630)\tAcc@1 81.250 (80.417)\tAcc@5 100.000 (98.750)\n",
            "Epoch: [0][15/16]\tTime 0.406 (0.546)\tData 0.002 (0.016)\tLoss 0.5880 (0.6600)\tAcc@1 85.000 (80.600)\tAcc@5 100.000 (98.800)\n",
            "Epoch: [1][0/16]\tTime 0.733 (0.733)\tData 0.134 (0.134)\tLoss 0.3736 (0.3736)\tAcc@1 92.188 (92.188)\tAcc@5 98.438 (98.438)\n",
            "Epoch: [1][1/16]\tTime 1.773 (1.253)\tData 0.005 (0.069)\tLoss 0.3372 (0.3554)\tAcc@1 95.312 (93.750)\tAcc@5 100.000 (99.219)\n",
            "Epoch: [1][2/16]\tTime 1.758 (1.421)\tData 0.001 (0.047)\tLoss 0.5145 (0.4084)\tAcc@1 85.938 (91.146)\tAcc@5 100.000 (99.479)\n",
            "Epoch: [1][3/16]\tTime 1.752 (1.504)\tData 0.004 (0.036)\tLoss 0.3154 (0.3852)\tAcc@1 95.312 (92.188)\tAcc@5 100.000 (99.609)\n",
            "Epoch: [1][4/16]\tTime 1.758 (1.555)\tData 0.014 (0.032)\tLoss 0.3264 (0.3734)\tAcc@1 93.750 (92.500)\tAcc@5 100.000 (99.688)\n",
            "Epoch: [1][5/16]\tTime 1.758 (1.588)\tData 0.003 (0.027)\tLoss 0.2908 (0.3597)\tAcc@1 96.875 (93.229)\tAcc@5 100.000 (99.740)\n",
            "Epoch: [1][6/16]\tTime 1.757 (1.613)\tData 0.003 (0.023)\tLoss 0.3576 (0.3594)\tAcc@1 95.312 (93.527)\tAcc@5 100.000 (99.777)\n",
            "Epoch: [1][7/16]\tTime 1.757 (1.631)\tData 0.003 (0.021)\tLoss 0.2987 (0.3518)\tAcc@1 96.875 (93.945)\tAcc@5 100.000 (99.805)\n",
            "Epoch: [1][8/16]\tTime 1.767 (1.646)\tData 0.003 (0.019)\tLoss 0.2861 (0.3445)\tAcc@1 93.750 (93.924)\tAcc@5 100.000 (99.826)\n",
            "Epoch: [1][9/16]\tTime 1.754 (1.657)\tData 0.003 (0.017)\tLoss 0.3201 (0.3420)\tAcc@1 95.312 (94.062)\tAcc@5 100.000 (99.844)\n",
            "Epoch: [1][10/16]\tTime 1.756 (1.666)\tData 0.003 (0.016)\tLoss 0.3205 (0.3401)\tAcc@1 96.875 (94.318)\tAcc@5 100.000 (99.858)\n",
            "Epoch: [1][11/16]\tTime 1.759 (1.673)\tData 0.003 (0.015)\tLoss 0.2885 (0.3358)\tAcc@1 93.750 (94.271)\tAcc@5 100.000 (99.870)\n",
            "Epoch: [1][12/16]\tTime 1.758 (1.680)\tData 0.006 (0.014)\tLoss 0.3696 (0.3384)\tAcc@1 93.750 (94.231)\tAcc@5 100.000 (99.880)\n",
            "Epoch: [1][13/16]\tTime 1.755 (1.685)\tData 0.003 (0.013)\tLoss 0.3055 (0.3360)\tAcc@1 96.875 (94.420)\tAcc@5 100.000 (99.888)\n",
            "Epoch: [1][14/16]\tTime 1.761 (1.690)\tData 0.003 (0.013)\tLoss 0.2635 (0.3312)\tAcc@1 98.438 (94.688)\tAcc@5 100.000 (99.896)\n",
            "Epoch: [1][15/16]\tTime 1.609 (1.685)\tData 0.002 (0.012)\tLoss 0.2565 (0.3282)\tAcc@1 100.000 (94.900)\tAcc@5 100.000 (99.900)\n",
            "Epoch: [1][0/16]\tTime 1.290 (1.290)\tData 0.118 (0.118)\tLoss 0.5403 (0.5403)\tAcc@1 82.812 (82.812)\tAcc@5 98.438 (98.438)\n",
            "Epoch: [1][1/16]\tTime 0.535 (0.913)\tData 0.006 (0.062)\tLoss 0.4934 (0.5168)\tAcc@1 89.062 (85.938)\tAcc@5 100.000 (99.219)\n",
            "Epoch: [1][2/16]\tTime 0.551 (0.792)\tData 0.002 (0.042)\tLoss 0.4526 (0.4954)\tAcc@1 90.625 (87.500)\tAcc@5 100.000 (99.479)\n",
            "Epoch: [1][3/16]\tTime 0.538 (0.728)\tData 0.003 (0.032)\tLoss 0.5885 (0.5187)\tAcc@1 79.688 (85.547)\tAcc@5 98.438 (99.219)\n",
            "Epoch: [1][4/16]\tTime 0.552 (0.693)\tData 0.003 (0.026)\tLoss 0.5992 (0.5348)\tAcc@1 82.812 (85.000)\tAcc@5 98.438 (99.062)\n",
            "Epoch: [1][5/16]\tTime 0.540 (0.667)\tData 0.003 (0.022)\tLoss 0.5926 (0.5444)\tAcc@1 85.938 (85.156)\tAcc@5 98.438 (98.958)\n",
            "Epoch: [1][6/16]\tTime 0.550 (0.651)\tData 0.006 (0.020)\tLoss 0.3986 (0.5236)\tAcc@1 90.625 (85.938)\tAcc@5 100.000 (99.107)\n",
            "Epoch: [1][7/16]\tTime 0.544 (0.637)\tData 0.006 (0.018)\tLoss 0.4560 (0.5151)\tAcc@1 87.500 (86.133)\tAcc@5 98.438 (99.023)\n",
            "Epoch: [1][8/16]\tTime 0.545 (0.627)\tData 0.016 (0.018)\tLoss 0.4561 (0.5086)\tAcc@1 89.062 (86.458)\tAcc@5 100.000 (99.132)\n",
            "Epoch: [1][9/16]\tTime 0.551 (0.619)\tData 0.007 (0.017)\tLoss 0.4198 (0.4997)\tAcc@1 89.062 (86.719)\tAcc@5 100.000 (99.219)\n",
            "Epoch: [1][10/16]\tTime 0.537 (0.612)\tData 0.010 (0.016)\tLoss 0.7011 (0.5180)\tAcc@1 76.562 (85.795)\tAcc@5 100.000 (99.290)\n",
            "Epoch: [1][11/16]\tTime 0.555 (0.607)\tData 0.015 (0.016)\tLoss 0.4958 (0.5162)\tAcc@1 89.062 (86.068)\tAcc@5 98.438 (99.219)\n",
            "Epoch: [1][12/16]\tTime 0.537 (0.602)\tData 0.003 (0.015)\tLoss 0.4962 (0.5146)\tAcc@1 84.375 (85.938)\tAcc@5 100.000 (99.279)\n",
            "Epoch: [1][13/16]\tTime 0.551 (0.598)\tData 0.003 (0.014)\tLoss 0.4581 (0.5106)\tAcc@1 85.938 (85.938)\tAcc@5 100.000 (99.330)\n",
            "Epoch: [1][14/16]\tTime 0.539 (0.594)\tData 0.003 (0.013)\tLoss 0.4801 (0.5085)\tAcc@1 85.938 (85.938)\tAcc@5 100.000 (99.375)\n",
            "Epoch: [1][15/16]\tTime 0.402 (0.582)\tData 0.003 (0.013)\tLoss 0.4598 (0.5066)\tAcc@1 82.500 (85.800)\tAcc@5 100.000 (99.400)\n",
            "Epoch: [2][0/16]\tTime 0.727 (0.727)\tData 0.130 (0.130)\tLoss 0.2915 (0.2915)\tAcc@1 95.312 (95.312)\tAcc@5 100.000 (100.000)\n",
            "Epoch: [2][1/16]\tTime 1.786 (1.257)\tData 0.004 (0.067)\tLoss 0.2739 (0.2827)\tAcc@1 93.750 (94.531)\tAcc@5 100.000 (100.000)\n",
            "Epoch: [2][2/16]\tTime 1.757 (1.423)\tData 0.001 (0.045)\tLoss 0.2730 (0.2794)\tAcc@1 95.312 (94.792)\tAcc@5 100.000 (100.000)\n",
            "Epoch: [2][3/16]\tTime 1.756 (1.506)\tData 0.003 (0.035)\tLoss 0.3298 (0.2920)\tAcc@1 95.312 (94.922)\tAcc@5 100.000 (100.000)\n",
            "Epoch: [2][4/16]\tTime 1.754 (1.556)\tData 0.003 (0.028)\tLoss 0.3382 (0.3013)\tAcc@1 93.750 (94.688)\tAcc@5 100.000 (100.000)\n",
            "Epoch: [2][5/16]\tTime 1.757 (1.589)\tData 0.003 (0.024)\tLoss 0.2770 (0.2972)\tAcc@1 96.875 (95.052)\tAcc@5 100.000 (100.000)\n",
            "Epoch: [2][6/16]\tTime 1.765 (1.614)\tData 0.003 (0.021)\tLoss 0.2691 (0.2932)\tAcc@1 96.875 (95.312)\tAcc@5 100.000 (100.000)\n",
            "Epoch: [2][7/16]\tTime 1.758 (1.632)\tData 0.003 (0.019)\tLoss 0.2502 (0.2878)\tAcc@1 98.438 (95.703)\tAcc@5 100.000 (100.000)\n",
            "Epoch: [2][8/16]\tTime 1.756 (1.646)\tData 0.003 (0.017)\tLoss 0.2518 (0.2838)\tAcc@1 96.875 (95.833)\tAcc@5 100.000 (100.000)\n",
            "Epoch: [2][9/16]\tTime 1.762 (1.658)\tData 0.003 (0.016)\tLoss 0.3216 (0.2876)\tAcc@1 96.875 (95.938)\tAcc@5 100.000 (100.000)\n",
            "Epoch: [2][10/16]\tTime 1.765 (1.667)\tData 0.003 (0.014)\tLoss 0.2328 (0.2826)\tAcc@1 100.000 (96.307)\tAcc@5 100.000 (100.000)\n",
            "Epoch: [2][11/16]\tTime 1.759 (1.675)\tData 0.003 (0.013)\tLoss 0.3553 (0.2887)\tAcc@1 93.750 (96.094)\tAcc@5 100.000 (100.000)\n",
            "Epoch: [2][12/16]\tTime 1.760 (1.682)\tData 0.002 (0.013)\tLoss 0.3196 (0.2911)\tAcc@1 96.875 (96.154)\tAcc@5 98.438 (99.880)\n",
            "Epoch: [2][13/16]\tTime 1.762 (1.687)\tData 0.003 (0.012)\tLoss 0.2627 (0.2890)\tAcc@1 98.438 (96.317)\tAcc@5 100.000 (99.888)\n",
            "Epoch: [2][14/16]\tTime 1.761 (1.692)\tData 0.003 (0.011)\tLoss 0.2947 (0.2894)\tAcc@1 93.750 (96.146)\tAcc@5 100.000 (99.896)\n",
            "Epoch: [2][15/16]\tTime 1.611 (1.687)\tData 0.008 (0.011)\tLoss 0.3675 (0.2925)\tAcc@1 87.500 (95.800)\tAcc@5 100.000 (99.900)\n",
            "Epoch: [2][0/16]\tTime 1.286 (1.286)\tData 0.125 (0.125)\tLoss 0.5037 (0.5037)\tAcc@1 87.500 (87.500)\tAcc@5 98.438 (98.438)\n",
            "Epoch: [2][1/16]\tTime 0.538 (0.912)\tData 0.005 (0.065)\tLoss 0.3973 (0.4505)\tAcc@1 89.062 (88.281)\tAcc@5 100.000 (99.219)\n",
            "Epoch: [2][2/16]\tTime 0.544 (0.789)\tData 0.002 (0.044)\tLoss 0.4948 (0.4653)\tAcc@1 84.375 (86.979)\tAcc@5 100.000 (99.479)\n",
            "Epoch: [2][3/16]\tTime 0.539 (0.727)\tData 0.003 (0.033)\tLoss 0.4492 (0.4613)\tAcc@1 90.625 (87.891)\tAcc@5 98.438 (99.219)\n",
            "Epoch: [2][4/16]\tTime 0.551 (0.692)\tData 0.003 (0.027)\tLoss 0.4428 (0.4576)\tAcc@1 85.938 (87.500)\tAcc@5 100.000 (99.375)\n",
            "Epoch: [2][5/16]\tTime 0.539 (0.666)\tData 0.003 (0.023)\tLoss 0.5825 (0.4784)\tAcc@1 81.250 (86.458)\tAcc@5 98.438 (99.219)\n",
            "Epoch: [2][6/16]\tTime 0.552 (0.650)\tData 0.003 (0.020)\tLoss 0.4646 (0.4764)\tAcc@1 85.938 (86.384)\tAcc@5 100.000 (99.330)\n",
            "Epoch: [2][7/16]\tTime 0.541 (0.636)\tData 0.003 (0.018)\tLoss 0.4328 (0.4710)\tAcc@1 89.062 (86.719)\tAcc@5 100.000 (99.414)\n",
            "Epoch: [2][8/16]\tTime 0.549 (0.627)\tData 0.003 (0.016)\tLoss 0.3556 (0.4582)\tAcc@1 87.500 (86.806)\tAcc@5 100.000 (99.479)\n",
            "Epoch: [2][9/16]\tTime 0.542 (0.618)\tData 0.003 (0.015)\tLoss 0.4156 (0.4539)\tAcc@1 90.625 (87.188)\tAcc@5 100.000 (99.531)\n",
            "Epoch: [2][10/16]\tTime 0.547 (0.612)\tData 0.004 (0.014)\tLoss 0.6527 (0.4720)\tAcc@1 79.688 (86.506)\tAcc@5 98.438 (99.432)\n",
            "Epoch: [2][11/16]\tTime 0.547 (0.606)\tData 0.003 (0.013)\tLoss 0.4414 (0.4694)\tAcc@1 90.625 (86.849)\tAcc@5 98.438 (99.349)\n",
            "Epoch: [2][12/16]\tTime 0.546 (0.602)\tData 0.003 (0.012)\tLoss 0.4333 (0.4667)\tAcc@1 90.625 (87.139)\tAcc@5 100.000 (99.399)\n",
            "Epoch: [2][13/16]\tTime 0.544 (0.598)\tData 0.003 (0.012)\tLoss 0.4497 (0.4654)\tAcc@1 87.500 (87.165)\tAcc@5 100.000 (99.442)\n",
            "Epoch: [2][14/16]\tTime 0.545 (0.594)\tData 0.003 (0.011)\tLoss 0.3665 (0.4589)\tAcc@1 92.188 (87.500)\tAcc@5 100.000 (99.479)\n",
            "Epoch: [2][15/16]\tTime 0.403 (0.582)\tData 0.003 (0.010)\tLoss 0.4635 (0.4590)\tAcc@1 82.500 (87.300)\tAcc@5 100.000 (99.500)\n",
            "Top classes:  tensor([3., 0., 4., 0., 4., 4., 3., 6., 4., 9., 4., 9., 4., 7., 9., 8., 3., 7.,\n",
            "        8., 6., 7., 2., 4., 9., 4., 4., 4., 0., 9., 4., 4., 4., 4., 3., 9., 3.,\n",
            "        4., 9., 9., 3., 0., 4., 3., 6., 4., 9., 3., 3., 4., 4., 9., 8., 3., 4.,\n",
            "        0., 4., 5., 7., 3., 4., 4., 4., 4., 0., 6., 4., 0., 2., 3., 7., 4., 4.,\n",
            "        8., 8., 0., 4., 0., 3., 3., 8., 4., 9., 0., 7., 2., 4., 4., 3., 8., 0.,\n",
            "        0., 4., 8., 6., 4., 4., 4., 4., 0., 7.], device='cuda:0',\n",
            "       dtype=torch.float64)\n",
            "Y classes:  tensor([3, 8, 8, 0, 6, 6, 1, 6, 3, 1, 0, 9, 5, 7, 9, 8, 5, 7, 8, 6, 7, 0, 4, 9,\n",
            "        5, 2, 4, 0, 9, 6, 6, 5, 4, 5, 9, 2, 4, 1, 9, 5, 4, 6, 5, 6, 0, 9, 3, 9,\n",
            "        7, 6, 9, 8, 0, 3, 8, 8, 7, 7, 4, 6, 7, 3, 6, 3, 6, 2, 1, 2, 3, 7, 2, 6,\n",
            "        8, 8, 0, 2, 9, 3, 3, 8, 8, 1, 1, 7, 2, 5, 2, 7, 8, 9, 0, 3, 8, 6, 4, 6,\n",
            "        6, 0, 0, 7], device='cuda:0')\n",
            "Average radious found by certify: inf\n",
            "Accuracy found by certify function: 45.00%\n",
            "Files already downloaded and verified\n",
            "Clean accuracy: 55.00%\n",
            "using custom version including apgd-ce, apgd-dlr.\n",
            "initial accuracy: 55.00%\n",
            "apgd-ce - 1/1 - 4 out of 11 successfully perturbed\n",
            "robust accuracy after APGD-CE: 35.00% (total time 172.5 s)\n",
            "apgd-dlr - 1/1 - 0 out of 7 successfully perturbed\n",
            "robust accuracy after APGD-DLR: 35.00% (total time 345.5 s)\n",
            "max L2 perturbation: 0.50000, nan in tensor: 0, max: 1.00000, min: 0.00000\n",
            "robust accuracy: 35.00%\n",
            "Adversarial accuracy: 35.00%\n"
          ]
        }
      ]
    },
    {
      "cell_type": "markdown",
      "source": [
        "Linf"
      ],
      "metadata": {
        "id": "n6gPMiYKByXr"
      }
    },
    {
      "cell_type": "code",
      "source": [
        "# Model loading\n",
        "model_1_Linf = load_configure_model(name='Rebuffi2021Fixing_70_16_cutmix_extra', dataset='cifar10', threat_model='Linf', device=device)\n",
        "\n",
        "# Test on stock model\n",
        "test_model(model_1_Linf, sigma, x_test, y_test, 'Linf', ThreatModel.Linf, n_examples, eps_Linf, batch_size, device, version, attacks_to_run)\n",
        "\n",
        "# Smoothed model training\n",
        "smoothed_model_1_Linf = train_model(trainloader, testloader, model_1_Linf, epochs, sigma, device)\n",
        "\n",
        "# Test on smoothed model\n",
        "test_model(smoothed_model_1_Linf, sigma, x_test, y_test, 'Linf', ThreatModel.Linf, n_examples, eps_Linf, batch_size, device, version, attacks_to_run)"
      ],
      "metadata": {
        "id": "rA09MQ0lZ34c",
        "colab": {
          "base_uri": "https://localhost:8080/",
          "height": 0
        },
        "outputId": "adaaa966-e994-4cd7-8aba-89a4ffcacf9e",
        "collapsed": true
      },
      "execution_count": 14,
      "outputs": [
        {
          "output_type": "stream",
          "name": "stdout",
          "text": [
            "Downloading models/cifar10/Linf/Rebuffi2021Fixing_70_16_cutmix_extra.pt (gdrive_id=1qKDTp6IJ1BUXZaRtbYuo_t0tuDl_4mLg).\n"
          ]
        },
        {
          "output_type": "error",
          "ename": "KeyboardInterrupt",
          "evalue": "",
          "traceback": [
            "\u001b[0;31m---------------------------------------------------------------------------\u001b[0m",
            "\u001b[0;31mKeyboardInterrupt\u001b[0m                         Traceback (most recent call last)",
            "\u001b[0;32m<ipython-input-14-28ebda06cae9>\u001b[0m in \u001b[0;36m<cell line: 2>\u001b[0;34m()\u001b[0m\n\u001b[1;32m      1\u001b[0m \u001b[0;31m# Model loading\u001b[0m\u001b[0;34m\u001b[0m\u001b[0;34m\u001b[0m\u001b[0m\n\u001b[0;32m----> 2\u001b[0;31m \u001b[0mmodel_1_Linf\u001b[0m \u001b[0;34m=\u001b[0m \u001b[0mload_configure_model\u001b[0m\u001b[0;34m(\u001b[0m\u001b[0mname\u001b[0m\u001b[0;34m=\u001b[0m\u001b[0;34m'Rebuffi2021Fixing_70_16_cutmix_extra'\u001b[0m\u001b[0;34m,\u001b[0m \u001b[0mdataset\u001b[0m\u001b[0;34m=\u001b[0m\u001b[0;34m'cifar10'\u001b[0m\u001b[0;34m,\u001b[0m \u001b[0mthreat_model\u001b[0m\u001b[0;34m=\u001b[0m\u001b[0;34m'Linf'\u001b[0m\u001b[0;34m,\u001b[0m \u001b[0mdevice\u001b[0m\u001b[0;34m=\u001b[0m\u001b[0mdevice\u001b[0m\u001b[0;34m)\u001b[0m\u001b[0;34m\u001b[0m\u001b[0;34m\u001b[0m\u001b[0m\n\u001b[0m\u001b[1;32m      3\u001b[0m \u001b[0;34m\u001b[0m\u001b[0m\n\u001b[1;32m      4\u001b[0m \u001b[0;31m# Test on stock model\u001b[0m\u001b[0;34m\u001b[0m\u001b[0;34m\u001b[0m\u001b[0m\n\u001b[1;32m      5\u001b[0m \u001b[0mtest_model\u001b[0m\u001b[0;34m(\u001b[0m\u001b[0mmodel_1_Linf\u001b[0m\u001b[0;34m,\u001b[0m \u001b[0msigma\u001b[0m\u001b[0;34m,\u001b[0m \u001b[0mx_test\u001b[0m\u001b[0;34m,\u001b[0m \u001b[0my_test\u001b[0m\u001b[0;34m,\u001b[0m \u001b[0;34m'Linf'\u001b[0m\u001b[0;34m,\u001b[0m \u001b[0mThreatModel\u001b[0m\u001b[0;34m.\u001b[0m\u001b[0mLinf\u001b[0m\u001b[0;34m,\u001b[0m \u001b[0mn_examples\u001b[0m\u001b[0;34m,\u001b[0m \u001b[0meps_Linf\u001b[0m\u001b[0;34m,\u001b[0m \u001b[0mbatch_size\u001b[0m\u001b[0;34m,\u001b[0m \u001b[0mdevice\u001b[0m\u001b[0;34m,\u001b[0m \u001b[0mversion\u001b[0m\u001b[0;34m,\u001b[0m \u001b[0mattacks_to_run\u001b[0m\u001b[0;34m)\u001b[0m\u001b[0;34m\u001b[0m\u001b[0;34m\u001b[0m\u001b[0m\n",
            "\u001b[0;32m<ipython-input-3-d3dcfe1aea8a>\u001b[0m in \u001b[0;36mload_configure_model\u001b[0;34m(name, dataset, threat_model, device)\u001b[0m\n\u001b[1;32m      1\u001b[0m \u001b[0;32mdef\u001b[0m \u001b[0mload_configure_model\u001b[0m\u001b[0;34m(\u001b[0m\u001b[0mname\u001b[0m\u001b[0;34m,\u001b[0m \u001b[0mdataset\u001b[0m\u001b[0;34m,\u001b[0m \u001b[0mthreat_model\u001b[0m\u001b[0;34m,\u001b[0m \u001b[0mdevice\u001b[0m\u001b[0;34m)\u001b[0m\u001b[0;34m:\u001b[0m\u001b[0;34m\u001b[0m\u001b[0;34m\u001b[0m\u001b[0m\n\u001b[1;32m      2\u001b[0m   \u001b[0;31m# Download model from robustbench\u001b[0m\u001b[0;34m\u001b[0m\u001b[0;34m\u001b[0m\u001b[0m\n\u001b[0;32m----> 3\u001b[0;31m   \u001b[0mmodel\u001b[0m \u001b[0;34m=\u001b[0m \u001b[0mload_model\u001b[0m\u001b[0;34m(\u001b[0m\u001b[0mmodel_name\u001b[0m\u001b[0;34m=\u001b[0m\u001b[0mname\u001b[0m\u001b[0;34m,\u001b[0m \u001b[0mdataset\u001b[0m\u001b[0;34m=\u001b[0m\u001b[0mdataset\u001b[0m\u001b[0;34m,\u001b[0m \u001b[0mthreat_model\u001b[0m\u001b[0;34m=\u001b[0m\u001b[0mthreat_model\u001b[0m\u001b[0;34m)\u001b[0m\u001b[0;34m\u001b[0m\u001b[0;34m\u001b[0m\u001b[0m\n\u001b[0m\u001b[1;32m      4\u001b[0m \u001b[0;34m\u001b[0m\u001b[0m\n\u001b[1;32m      5\u001b[0m   \u001b[0;31m# Set model to the chosen device\u001b[0m\u001b[0;34m\u001b[0m\u001b[0;34m\u001b[0m\u001b[0m\n",
            "\u001b[0;32m/usr/local/lib/python3.10/dist-packages/robustbench/utils.py\u001b[0m in \u001b[0;36mload_model\u001b[0;34m(model_name, model_dir, dataset, threat_model, custom_checkpoint, norm)\u001b[0m\n\u001b[1;32m    162\u001b[0m             \u001b[0mos\u001b[0m\u001b[0;34m.\u001b[0m\u001b[0mmakedirs\u001b[0m\u001b[0;34m(\u001b[0m\u001b[0mmodel_dir_\u001b[0m\u001b[0;34m)\u001b[0m\u001b[0;34m\u001b[0m\u001b[0;34m\u001b[0m\u001b[0m\n\u001b[1;32m    163\u001b[0m         \u001b[0;32mif\u001b[0m \u001b[0;32mnot\u001b[0m \u001b[0mos\u001b[0m\u001b[0;34m.\u001b[0m\u001b[0mpath\u001b[0m\u001b[0;34m.\u001b[0m\u001b[0misfile\u001b[0m\u001b[0;34m(\u001b[0m\u001b[0mmodel_path\u001b[0m\u001b[0;34m)\u001b[0m\u001b[0;34m:\u001b[0m\u001b[0;34m\u001b[0m\u001b[0;34m\u001b[0m\u001b[0m\n\u001b[0;32m--> 164\u001b[0;31m             \u001b[0mdownload_gdrive_new\u001b[0m\u001b[0;34m(\u001b[0m\u001b[0mmodels\u001b[0m\u001b[0;34m[\u001b[0m\u001b[0mmodel_name\u001b[0m\u001b[0;34m]\u001b[0m\u001b[0;34m[\u001b[0m\u001b[0;34m'gdrive_id'\u001b[0m\u001b[0;34m]\u001b[0m\u001b[0;34m,\u001b[0m \u001b[0mmodel_path\u001b[0m\u001b[0;34m)\u001b[0m\u001b[0;34m\u001b[0m\u001b[0;34m\u001b[0m\u001b[0m\n\u001b[0m\u001b[1;32m    165\u001b[0m         \u001b[0mcheckpoint\u001b[0m \u001b[0;34m=\u001b[0m \u001b[0mtorch\u001b[0m\u001b[0;34m.\u001b[0m\u001b[0mload\u001b[0m\u001b[0;34m(\u001b[0m\u001b[0mmodel_path\u001b[0m\u001b[0;34m,\u001b[0m \u001b[0mmap_location\u001b[0m\u001b[0;34m=\u001b[0m\u001b[0mtorch\u001b[0m\u001b[0;34m.\u001b[0m\u001b[0mdevice\u001b[0m\u001b[0;34m(\u001b[0m\u001b[0;34m'cpu'\u001b[0m\u001b[0;34m)\u001b[0m\u001b[0;34m)\u001b[0m\u001b[0;34m\u001b[0m\u001b[0;34m\u001b[0m\u001b[0m\n\u001b[1;32m    166\u001b[0m \u001b[0;34m\u001b[0m\u001b[0m\n",
            "\u001b[0;32m/usr/local/lib/python3.10/dist-packages/robustbench/utils.py\u001b[0m in \u001b[0;36mdownload_gdrive_new\u001b[0;34m(gdrive_id, fname_save)\u001b[0m\n\u001b[1;32m     83\u001b[0m         \u001b[0mfname_save\u001b[0m \u001b[0;34m=\u001b[0m \u001b[0mstr\u001b[0m\u001b[0;34m(\u001b[0m\u001b[0mfname_save\u001b[0m\u001b[0;34m)\u001b[0m\u001b[0;34m\u001b[0m\u001b[0;34m\u001b[0m\u001b[0m\n\u001b[1;32m     84\u001b[0m     \u001b[0mprint\u001b[0m\u001b[0;34m(\u001b[0m\u001b[0;34mf'Downloading {fname_save} (gdrive_id={gdrive_id}).'\u001b[0m\u001b[0;34m)\u001b[0m\u001b[0;34m\u001b[0m\u001b[0;34m\u001b[0m\u001b[0m\n\u001b[0;32m---> 85\u001b[0;31m     \u001b[0mgdown\u001b[0m\u001b[0;34m.\u001b[0m\u001b[0mdownload\u001b[0m\u001b[0;34m(\u001b[0m\u001b[0mid\u001b[0m\u001b[0;34m=\u001b[0m\u001b[0mgdrive_id\u001b[0m\u001b[0;34m,\u001b[0m \u001b[0moutput\u001b[0m\u001b[0;34m=\u001b[0m\u001b[0mfname_save\u001b[0m\u001b[0;34m)\u001b[0m\u001b[0;34m\u001b[0m\u001b[0;34m\u001b[0m\u001b[0m\n\u001b[0m\u001b[1;32m     86\u001b[0m \u001b[0;34m\u001b[0m\u001b[0m\n\u001b[1;32m     87\u001b[0m \u001b[0;34m\u001b[0m\u001b[0m\n",
            "\u001b[0;32m/usr/local/lib/python3.10/dist-packages/gdown/download.py\u001b[0m in \u001b[0;36mdownload\u001b[0;34m(url, output, quiet, proxy, speed, use_cookies, verify, id, fuzzy, resume, format, user_agent, log_messages)\u001b[0m\n\u001b[1;32m    186\u001b[0m \u001b[0;34m\u001b[0m\u001b[0m\n\u001b[1;32m    187\u001b[0m     \u001b[0;32mwhile\u001b[0m \u001b[0;32mTrue\u001b[0m\u001b[0;34m:\u001b[0m\u001b[0;34m\u001b[0m\u001b[0;34m\u001b[0m\u001b[0m\n\u001b[0;32m--> 188\u001b[0;31m         \u001b[0mres\u001b[0m \u001b[0;34m=\u001b[0m \u001b[0msess\u001b[0m\u001b[0;34m.\u001b[0m\u001b[0mget\u001b[0m\u001b[0;34m(\u001b[0m\u001b[0murl\u001b[0m\u001b[0;34m,\u001b[0m \u001b[0mstream\u001b[0m\u001b[0;34m=\u001b[0m\u001b[0;32mTrue\u001b[0m\u001b[0;34m,\u001b[0m \u001b[0mverify\u001b[0m\u001b[0;34m=\u001b[0m\u001b[0mverify\u001b[0m\u001b[0;34m)\u001b[0m\u001b[0;34m\u001b[0m\u001b[0;34m\u001b[0m\u001b[0m\n\u001b[0m\u001b[1;32m    189\u001b[0m \u001b[0;34m\u001b[0m\u001b[0m\n\u001b[1;32m    190\u001b[0m         \u001b[0;32mif\u001b[0m \u001b[0;32mnot\u001b[0m \u001b[0;34m(\u001b[0m\u001b[0mgdrive_file_id\u001b[0m \u001b[0;32mand\u001b[0m \u001b[0mis_gdrive_download_link\u001b[0m\u001b[0;34m)\u001b[0m\u001b[0;34m:\u001b[0m\u001b[0;34m\u001b[0m\u001b[0;34m\u001b[0m\u001b[0m\n",
            "\u001b[0;32m/usr/local/lib/python3.10/dist-packages/requests/sessions.py\u001b[0m in \u001b[0;36mget\u001b[0;34m(self, url, **kwargs)\u001b[0m\n\u001b[1;32m    600\u001b[0m \u001b[0;34m\u001b[0m\u001b[0m\n\u001b[1;32m    601\u001b[0m         \u001b[0mkwargs\u001b[0m\u001b[0;34m.\u001b[0m\u001b[0msetdefault\u001b[0m\u001b[0;34m(\u001b[0m\u001b[0;34m\"allow_redirects\"\u001b[0m\u001b[0;34m,\u001b[0m \u001b[0;32mTrue\u001b[0m\u001b[0;34m)\u001b[0m\u001b[0;34m\u001b[0m\u001b[0;34m\u001b[0m\u001b[0m\n\u001b[0;32m--> 602\u001b[0;31m         \u001b[0;32mreturn\u001b[0m \u001b[0mself\u001b[0m\u001b[0;34m.\u001b[0m\u001b[0mrequest\u001b[0m\u001b[0;34m(\u001b[0m\u001b[0;34m\"GET\"\u001b[0m\u001b[0;34m,\u001b[0m \u001b[0murl\u001b[0m\u001b[0;34m,\u001b[0m \u001b[0;34m**\u001b[0m\u001b[0mkwargs\u001b[0m\u001b[0;34m)\u001b[0m\u001b[0;34m\u001b[0m\u001b[0;34m\u001b[0m\u001b[0m\n\u001b[0m\u001b[1;32m    603\u001b[0m \u001b[0;34m\u001b[0m\u001b[0m\n\u001b[1;32m    604\u001b[0m     \u001b[0;32mdef\u001b[0m \u001b[0moptions\u001b[0m\u001b[0;34m(\u001b[0m\u001b[0mself\u001b[0m\u001b[0;34m,\u001b[0m \u001b[0murl\u001b[0m\u001b[0;34m,\u001b[0m \u001b[0;34m**\u001b[0m\u001b[0mkwargs\u001b[0m\u001b[0;34m)\u001b[0m\u001b[0;34m:\u001b[0m\u001b[0;34m\u001b[0m\u001b[0;34m\u001b[0m\u001b[0m\n",
            "\u001b[0;32m/usr/local/lib/python3.10/dist-packages/requests/sessions.py\u001b[0m in \u001b[0;36mrequest\u001b[0;34m(self, method, url, params, data, headers, cookies, files, auth, timeout, allow_redirects, proxies, hooks, stream, verify, cert, json)\u001b[0m\n\u001b[1;32m    587\u001b[0m         }\n\u001b[1;32m    588\u001b[0m         \u001b[0msend_kwargs\u001b[0m\u001b[0;34m.\u001b[0m\u001b[0mupdate\u001b[0m\u001b[0;34m(\u001b[0m\u001b[0msettings\u001b[0m\u001b[0;34m)\u001b[0m\u001b[0;34m\u001b[0m\u001b[0;34m\u001b[0m\u001b[0m\n\u001b[0;32m--> 589\u001b[0;31m         \u001b[0mresp\u001b[0m \u001b[0;34m=\u001b[0m \u001b[0mself\u001b[0m\u001b[0;34m.\u001b[0m\u001b[0msend\u001b[0m\u001b[0;34m(\u001b[0m\u001b[0mprep\u001b[0m\u001b[0;34m,\u001b[0m \u001b[0;34m**\u001b[0m\u001b[0msend_kwargs\u001b[0m\u001b[0;34m)\u001b[0m\u001b[0;34m\u001b[0m\u001b[0;34m\u001b[0m\u001b[0m\n\u001b[0m\u001b[1;32m    590\u001b[0m \u001b[0;34m\u001b[0m\u001b[0m\n\u001b[1;32m    591\u001b[0m         \u001b[0;32mreturn\u001b[0m \u001b[0mresp\u001b[0m\u001b[0;34m\u001b[0m\u001b[0;34m\u001b[0m\u001b[0m\n",
            "\u001b[0;32m/usr/local/lib/python3.10/dist-packages/requests/sessions.py\u001b[0m in \u001b[0;36msend\u001b[0;34m(self, request, **kwargs)\u001b[0m\n\u001b[1;32m    701\u001b[0m \u001b[0;34m\u001b[0m\u001b[0m\n\u001b[1;32m    702\u001b[0m         \u001b[0;31m# Send the request\u001b[0m\u001b[0;34m\u001b[0m\u001b[0;34m\u001b[0m\u001b[0m\n\u001b[0;32m--> 703\u001b[0;31m         \u001b[0mr\u001b[0m \u001b[0;34m=\u001b[0m \u001b[0madapter\u001b[0m\u001b[0;34m.\u001b[0m\u001b[0msend\u001b[0m\u001b[0;34m(\u001b[0m\u001b[0mrequest\u001b[0m\u001b[0;34m,\u001b[0m \u001b[0;34m**\u001b[0m\u001b[0mkwargs\u001b[0m\u001b[0;34m)\u001b[0m\u001b[0;34m\u001b[0m\u001b[0;34m\u001b[0m\u001b[0m\n\u001b[0m\u001b[1;32m    704\u001b[0m \u001b[0;34m\u001b[0m\u001b[0m\n\u001b[1;32m    705\u001b[0m         \u001b[0;31m# Total elapsed time of the request (approximately)\u001b[0m\u001b[0;34m\u001b[0m\u001b[0;34m\u001b[0m\u001b[0m\n",
            "\u001b[0;32m/usr/local/lib/python3.10/dist-packages/requests/adapters.py\u001b[0m in \u001b[0;36msend\u001b[0;34m(self, request, stream, timeout, verify, cert, proxies)\u001b[0m\n\u001b[1;32m    665\u001b[0m \u001b[0;34m\u001b[0m\u001b[0m\n\u001b[1;32m    666\u001b[0m         \u001b[0;32mtry\u001b[0m\u001b[0;34m:\u001b[0m\u001b[0;34m\u001b[0m\u001b[0;34m\u001b[0m\u001b[0m\n\u001b[0;32m--> 667\u001b[0;31m             resp = conn.urlopen(\n\u001b[0m\u001b[1;32m    668\u001b[0m                 \u001b[0mmethod\u001b[0m\u001b[0;34m=\u001b[0m\u001b[0mrequest\u001b[0m\u001b[0;34m.\u001b[0m\u001b[0mmethod\u001b[0m\u001b[0;34m,\u001b[0m\u001b[0;34m\u001b[0m\u001b[0;34m\u001b[0m\u001b[0m\n\u001b[1;32m    669\u001b[0m                 \u001b[0murl\u001b[0m\u001b[0;34m=\u001b[0m\u001b[0murl\u001b[0m\u001b[0;34m,\u001b[0m\u001b[0;34m\u001b[0m\u001b[0;34m\u001b[0m\u001b[0m\n",
            "\u001b[0;32m/usr/local/lib/python3.10/dist-packages/urllib3/connectionpool.py\u001b[0m in \u001b[0;36murlopen\u001b[0;34m(self, method, url, body, headers, retries, redirect, assert_same_host, timeout, pool_timeout, release_conn, chunked, body_pos, preload_content, decode_content, **response_kw)\u001b[0m\n\u001b[1;32m    787\u001b[0m \u001b[0;34m\u001b[0m\u001b[0m\n\u001b[1;32m    788\u001b[0m             \u001b[0;31m# Make the request on the HTTPConnection object\u001b[0m\u001b[0;34m\u001b[0m\u001b[0;34m\u001b[0m\u001b[0m\n\u001b[0;32m--> 789\u001b[0;31m             response = self._make_request(\n\u001b[0m\u001b[1;32m    790\u001b[0m                 \u001b[0mconn\u001b[0m\u001b[0;34m,\u001b[0m\u001b[0;34m\u001b[0m\u001b[0;34m\u001b[0m\u001b[0m\n\u001b[1;32m    791\u001b[0m                 \u001b[0mmethod\u001b[0m\u001b[0;34m,\u001b[0m\u001b[0;34m\u001b[0m\u001b[0;34m\u001b[0m\u001b[0m\n",
            "\u001b[0;32m/usr/local/lib/python3.10/dist-packages/urllib3/connectionpool.py\u001b[0m in \u001b[0;36m_make_request\u001b[0;34m(self, conn, method, url, body, headers, retries, timeout, chunked, response_conn, preload_content, decode_content, enforce_content_length)\u001b[0m\n\u001b[1;32m    534\u001b[0m         \u001b[0;31m# Receive the response from the server\u001b[0m\u001b[0;34m\u001b[0m\u001b[0;34m\u001b[0m\u001b[0m\n\u001b[1;32m    535\u001b[0m         \u001b[0;32mtry\u001b[0m\u001b[0;34m:\u001b[0m\u001b[0;34m\u001b[0m\u001b[0;34m\u001b[0m\u001b[0m\n\u001b[0;32m--> 536\u001b[0;31m             \u001b[0mresponse\u001b[0m \u001b[0;34m=\u001b[0m \u001b[0mconn\u001b[0m\u001b[0;34m.\u001b[0m\u001b[0mgetresponse\u001b[0m\u001b[0;34m(\u001b[0m\u001b[0;34m)\u001b[0m\u001b[0;34m\u001b[0m\u001b[0;34m\u001b[0m\u001b[0m\n\u001b[0m\u001b[1;32m    537\u001b[0m         \u001b[0;32mexcept\u001b[0m \u001b[0;34m(\u001b[0m\u001b[0mBaseSSLError\u001b[0m\u001b[0;34m,\u001b[0m \u001b[0mOSError\u001b[0m\u001b[0;34m)\u001b[0m \u001b[0;32mas\u001b[0m \u001b[0me\u001b[0m\u001b[0;34m:\u001b[0m\u001b[0;34m\u001b[0m\u001b[0;34m\u001b[0m\u001b[0m\n\u001b[1;32m    538\u001b[0m             \u001b[0mself\u001b[0m\u001b[0;34m.\u001b[0m\u001b[0m_raise_timeout\u001b[0m\u001b[0;34m(\u001b[0m\u001b[0merr\u001b[0m\u001b[0;34m=\u001b[0m\u001b[0me\u001b[0m\u001b[0;34m,\u001b[0m \u001b[0murl\u001b[0m\u001b[0;34m=\u001b[0m\u001b[0murl\u001b[0m\u001b[0;34m,\u001b[0m \u001b[0mtimeout_value\u001b[0m\u001b[0;34m=\u001b[0m\u001b[0mread_timeout\u001b[0m\u001b[0;34m)\u001b[0m\u001b[0;34m\u001b[0m\u001b[0;34m\u001b[0m\u001b[0m\n",
            "\u001b[0;32m/usr/local/lib/python3.10/dist-packages/urllib3/connection.py\u001b[0m in \u001b[0;36mgetresponse\u001b[0;34m(self)\u001b[0m\n\u001b[1;32m    505\u001b[0m \u001b[0;34m\u001b[0m\u001b[0m\n\u001b[1;32m    506\u001b[0m         \u001b[0;31m# Get the response from http.client.HTTPConnection\u001b[0m\u001b[0;34m\u001b[0m\u001b[0;34m\u001b[0m\u001b[0m\n\u001b[0;32m--> 507\u001b[0;31m         \u001b[0mhttplib_response\u001b[0m \u001b[0;34m=\u001b[0m \u001b[0msuper\u001b[0m\u001b[0;34m(\u001b[0m\u001b[0;34m)\u001b[0m\u001b[0;34m.\u001b[0m\u001b[0mgetresponse\u001b[0m\u001b[0;34m(\u001b[0m\u001b[0;34m)\u001b[0m\u001b[0;34m\u001b[0m\u001b[0;34m\u001b[0m\u001b[0m\n\u001b[0m\u001b[1;32m    508\u001b[0m \u001b[0;34m\u001b[0m\u001b[0m\n\u001b[1;32m    509\u001b[0m         \u001b[0;32mtry\u001b[0m\u001b[0;34m:\u001b[0m\u001b[0;34m\u001b[0m\u001b[0;34m\u001b[0m\u001b[0m\n",
            "\u001b[0;32m/usr/lib/python3.10/http/client.py\u001b[0m in \u001b[0;36mgetresponse\u001b[0;34m(self)\u001b[0m\n\u001b[1;32m   1373\u001b[0m         \u001b[0;32mtry\u001b[0m\u001b[0;34m:\u001b[0m\u001b[0;34m\u001b[0m\u001b[0;34m\u001b[0m\u001b[0m\n\u001b[1;32m   1374\u001b[0m             \u001b[0;32mtry\u001b[0m\u001b[0;34m:\u001b[0m\u001b[0;34m\u001b[0m\u001b[0;34m\u001b[0m\u001b[0m\n\u001b[0;32m-> 1375\u001b[0;31m                 \u001b[0mresponse\u001b[0m\u001b[0;34m.\u001b[0m\u001b[0mbegin\u001b[0m\u001b[0;34m(\u001b[0m\u001b[0;34m)\u001b[0m\u001b[0;34m\u001b[0m\u001b[0;34m\u001b[0m\u001b[0m\n\u001b[0m\u001b[1;32m   1376\u001b[0m             \u001b[0;32mexcept\u001b[0m \u001b[0mConnectionError\u001b[0m\u001b[0;34m:\u001b[0m\u001b[0;34m\u001b[0m\u001b[0;34m\u001b[0m\u001b[0m\n\u001b[1;32m   1377\u001b[0m                 \u001b[0mself\u001b[0m\u001b[0;34m.\u001b[0m\u001b[0mclose\u001b[0m\u001b[0;34m(\u001b[0m\u001b[0;34m)\u001b[0m\u001b[0;34m\u001b[0m\u001b[0;34m\u001b[0m\u001b[0m\n",
            "\u001b[0;32m/usr/lib/python3.10/http/client.py\u001b[0m in \u001b[0;36mbegin\u001b[0;34m(self)\u001b[0m\n\u001b[1;32m    316\u001b[0m         \u001b[0;31m# read until we get a non-100 response\u001b[0m\u001b[0;34m\u001b[0m\u001b[0;34m\u001b[0m\u001b[0m\n\u001b[1;32m    317\u001b[0m         \u001b[0;32mwhile\u001b[0m \u001b[0;32mTrue\u001b[0m\u001b[0;34m:\u001b[0m\u001b[0;34m\u001b[0m\u001b[0;34m\u001b[0m\u001b[0m\n\u001b[0;32m--> 318\u001b[0;31m             \u001b[0mversion\u001b[0m\u001b[0;34m,\u001b[0m \u001b[0mstatus\u001b[0m\u001b[0;34m,\u001b[0m \u001b[0mreason\u001b[0m \u001b[0;34m=\u001b[0m \u001b[0mself\u001b[0m\u001b[0;34m.\u001b[0m\u001b[0m_read_status\u001b[0m\u001b[0;34m(\u001b[0m\u001b[0;34m)\u001b[0m\u001b[0;34m\u001b[0m\u001b[0;34m\u001b[0m\u001b[0m\n\u001b[0m\u001b[1;32m    319\u001b[0m             \u001b[0;32mif\u001b[0m \u001b[0mstatus\u001b[0m \u001b[0;34m!=\u001b[0m \u001b[0mCONTINUE\u001b[0m\u001b[0;34m:\u001b[0m\u001b[0;34m\u001b[0m\u001b[0;34m\u001b[0m\u001b[0m\n\u001b[1;32m    320\u001b[0m                 \u001b[0;32mbreak\u001b[0m\u001b[0;34m\u001b[0m\u001b[0;34m\u001b[0m\u001b[0m\n",
            "\u001b[0;32m/usr/lib/python3.10/http/client.py\u001b[0m in \u001b[0;36m_read_status\u001b[0;34m(self)\u001b[0m\n\u001b[1;32m    277\u001b[0m \u001b[0;34m\u001b[0m\u001b[0m\n\u001b[1;32m    278\u001b[0m     \u001b[0;32mdef\u001b[0m \u001b[0m_read_status\u001b[0m\u001b[0;34m(\u001b[0m\u001b[0mself\u001b[0m\u001b[0;34m)\u001b[0m\u001b[0;34m:\u001b[0m\u001b[0;34m\u001b[0m\u001b[0;34m\u001b[0m\u001b[0m\n\u001b[0;32m--> 279\u001b[0;31m         \u001b[0mline\u001b[0m \u001b[0;34m=\u001b[0m \u001b[0mstr\u001b[0m\u001b[0;34m(\u001b[0m\u001b[0mself\u001b[0m\u001b[0;34m.\u001b[0m\u001b[0mfp\u001b[0m\u001b[0;34m.\u001b[0m\u001b[0mreadline\u001b[0m\u001b[0;34m(\u001b[0m\u001b[0m_MAXLINE\u001b[0m \u001b[0;34m+\u001b[0m \u001b[0;36m1\u001b[0m\u001b[0;34m)\u001b[0m\u001b[0;34m,\u001b[0m \u001b[0;34m\"iso-8859-1\"\u001b[0m\u001b[0;34m)\u001b[0m\u001b[0;34m\u001b[0m\u001b[0;34m\u001b[0m\u001b[0m\n\u001b[0m\u001b[1;32m    280\u001b[0m         \u001b[0;32mif\u001b[0m \u001b[0mlen\u001b[0m\u001b[0;34m(\u001b[0m\u001b[0mline\u001b[0m\u001b[0;34m)\u001b[0m \u001b[0;34m>\u001b[0m \u001b[0m_MAXLINE\u001b[0m\u001b[0;34m:\u001b[0m\u001b[0;34m\u001b[0m\u001b[0;34m\u001b[0m\u001b[0m\n\u001b[1;32m    281\u001b[0m             \u001b[0;32mraise\u001b[0m \u001b[0mLineTooLong\u001b[0m\u001b[0;34m(\u001b[0m\u001b[0;34m\"status line\"\u001b[0m\u001b[0;34m)\u001b[0m\u001b[0;34m\u001b[0m\u001b[0;34m\u001b[0m\u001b[0m\n",
            "\u001b[0;32m/usr/lib/python3.10/socket.py\u001b[0m in \u001b[0;36mreadinto\u001b[0;34m(self, b)\u001b[0m\n\u001b[1;32m    703\u001b[0m         \u001b[0;32mwhile\u001b[0m \u001b[0;32mTrue\u001b[0m\u001b[0;34m:\u001b[0m\u001b[0;34m\u001b[0m\u001b[0;34m\u001b[0m\u001b[0m\n\u001b[1;32m    704\u001b[0m             \u001b[0;32mtry\u001b[0m\u001b[0;34m:\u001b[0m\u001b[0;34m\u001b[0m\u001b[0;34m\u001b[0m\u001b[0m\n\u001b[0;32m--> 705\u001b[0;31m                 \u001b[0;32mreturn\u001b[0m \u001b[0mself\u001b[0m\u001b[0;34m.\u001b[0m\u001b[0m_sock\u001b[0m\u001b[0;34m.\u001b[0m\u001b[0mrecv_into\u001b[0m\u001b[0;34m(\u001b[0m\u001b[0mb\u001b[0m\u001b[0;34m)\u001b[0m\u001b[0;34m\u001b[0m\u001b[0;34m\u001b[0m\u001b[0m\n\u001b[0m\u001b[1;32m    706\u001b[0m             \u001b[0;32mexcept\u001b[0m \u001b[0mtimeout\u001b[0m\u001b[0;34m:\u001b[0m\u001b[0;34m\u001b[0m\u001b[0;34m\u001b[0m\u001b[0m\n\u001b[1;32m    707\u001b[0m                 \u001b[0mself\u001b[0m\u001b[0;34m.\u001b[0m\u001b[0m_timeout_occurred\u001b[0m \u001b[0;34m=\u001b[0m \u001b[0;32mTrue\u001b[0m\u001b[0;34m\u001b[0m\u001b[0;34m\u001b[0m\u001b[0m\n",
            "\u001b[0;32m/usr/lib/python3.10/ssl.py\u001b[0m in \u001b[0;36mrecv_into\u001b[0;34m(self, buffer, nbytes, flags)\u001b[0m\n\u001b[1;32m   1301\u001b[0m                   \u001b[0;34m\"non-zero flags not allowed in calls to recv_into() on %s\"\u001b[0m \u001b[0;34m%\u001b[0m\u001b[0;34m\u001b[0m\u001b[0;34m\u001b[0m\u001b[0m\n\u001b[1;32m   1302\u001b[0m                   self.__class__)\n\u001b[0;32m-> 1303\u001b[0;31m             \u001b[0;32mreturn\u001b[0m \u001b[0mself\u001b[0m\u001b[0;34m.\u001b[0m\u001b[0mread\u001b[0m\u001b[0;34m(\u001b[0m\u001b[0mnbytes\u001b[0m\u001b[0;34m,\u001b[0m \u001b[0mbuffer\u001b[0m\u001b[0;34m)\u001b[0m\u001b[0;34m\u001b[0m\u001b[0;34m\u001b[0m\u001b[0m\n\u001b[0m\u001b[1;32m   1304\u001b[0m         \u001b[0;32melse\u001b[0m\u001b[0;34m:\u001b[0m\u001b[0;34m\u001b[0m\u001b[0;34m\u001b[0m\u001b[0m\n\u001b[1;32m   1305\u001b[0m             \u001b[0;32mreturn\u001b[0m \u001b[0msuper\u001b[0m\u001b[0;34m(\u001b[0m\u001b[0;34m)\u001b[0m\u001b[0;34m.\u001b[0m\u001b[0mrecv_into\u001b[0m\u001b[0;34m(\u001b[0m\u001b[0mbuffer\u001b[0m\u001b[0;34m,\u001b[0m \u001b[0mnbytes\u001b[0m\u001b[0;34m,\u001b[0m \u001b[0mflags\u001b[0m\u001b[0;34m)\u001b[0m\u001b[0;34m\u001b[0m\u001b[0;34m\u001b[0m\u001b[0m\n",
            "\u001b[0;32m/usr/lib/python3.10/ssl.py\u001b[0m in \u001b[0;36mread\u001b[0;34m(self, len, buffer)\u001b[0m\n\u001b[1;32m   1157\u001b[0m         \u001b[0;32mtry\u001b[0m\u001b[0;34m:\u001b[0m\u001b[0;34m\u001b[0m\u001b[0;34m\u001b[0m\u001b[0m\n\u001b[1;32m   1158\u001b[0m             \u001b[0;32mif\u001b[0m \u001b[0mbuffer\u001b[0m \u001b[0;32mis\u001b[0m \u001b[0;32mnot\u001b[0m \u001b[0;32mNone\u001b[0m\u001b[0;34m:\u001b[0m\u001b[0;34m\u001b[0m\u001b[0;34m\u001b[0m\u001b[0m\n\u001b[0;32m-> 1159\u001b[0;31m                 \u001b[0;32mreturn\u001b[0m \u001b[0mself\u001b[0m\u001b[0;34m.\u001b[0m\u001b[0m_sslobj\u001b[0m\u001b[0;34m.\u001b[0m\u001b[0mread\u001b[0m\u001b[0;34m(\u001b[0m\u001b[0mlen\u001b[0m\u001b[0;34m,\u001b[0m \u001b[0mbuffer\u001b[0m\u001b[0;34m)\u001b[0m\u001b[0;34m\u001b[0m\u001b[0;34m\u001b[0m\u001b[0m\n\u001b[0m\u001b[1;32m   1160\u001b[0m             \u001b[0;32melse\u001b[0m\u001b[0;34m:\u001b[0m\u001b[0;34m\u001b[0m\u001b[0;34m\u001b[0m\u001b[0m\n\u001b[1;32m   1161\u001b[0m                 \u001b[0;32mreturn\u001b[0m \u001b[0mself\u001b[0m\u001b[0;34m.\u001b[0m\u001b[0m_sslobj\u001b[0m\u001b[0;34m.\u001b[0m\u001b[0mread\u001b[0m\u001b[0;34m(\u001b[0m\u001b[0mlen\u001b[0m\u001b[0;34m)\u001b[0m\u001b[0;34m\u001b[0m\u001b[0;34m\u001b[0m\u001b[0m\n",
            "\u001b[0;31mKeyboardInterrupt\u001b[0m: "
          ]
        }
      ]
    },
    {
      "cell_type": "markdown",
      "source": [
        "# Robust Learning Meets Generative Models: Can Proxy Distributions Improve Adversarial Robustness? (ResNet-18)"
      ],
      "metadata": {
        "id": "mtma9ehWeKjh"
      }
    },
    {
      "cell_type": "markdown",
      "source": [
        "L2"
      ],
      "metadata": {
        "id": "qSW7z1l1Iten"
      }
    },
    {
      "cell_type": "code",
      "source": [
        "# Model loading\n",
        "# WideResNet\n",
        "#model_2_L2 = load_configure_model(name='Sehwag2021Proxy', dataset='cifar10', threat_model='L2', device=device)\n",
        "# ResNet18\n",
        "model_2_L2 = load_configure_model(name='Sehwag2021Proxy_R18', dataset='cifar10', threat_model='L2', device=device)\n",
        "\n",
        "# Test on stock model\n",
        "test_model(model_2_L2, sigma, x_test, y_test, 'L2', ThreatModel.L2, n_examples, eps_L2, batch_size, device, version, attacks_to_run)\n",
        "\n",
        "# Smoothed model training\n",
        "smoothed_model_2_L2 = train_model(trainloader, testloader, model_2_L2, epochs, sigma, device)\n",
        "\n",
        "# Test on smoothed model\n",
        "test_model(smoothed_model_2_L2, sigma, x_test, y_test, 'L2', ThreatModel.L2, n_examples, eps_L2, batch_size, device, version, attacks_to_run)"
      ],
      "metadata": {
        "id": "hOl_1rinc4IX",
        "colab": {
          "base_uri": "https://localhost:8080/"
        },
        "outputId": "cbd4c084-8dac-47f0-b5f0-6c9bdae12a47"
      },
      "execution_count": 22,
      "outputs": [
        {
          "output_type": "stream",
          "name": "stdout",
          "text": [
            "Radiuses list:  [0.9120818020291023, 0.9120818020291023, 0.9120818020291023, 0.9120818020291023, 0.9120818020291023, 0.9120818020291023, 0.9120818020291023, 0.9120818020291023, 0.9120818020291023, 0.9120818020291023, 0.9120818020291023, 0.9120818020291023, 0.9120818020291023, 0.9120818020291023, 0.9120818020291023, 0.9120818020291023, 0.9120818020291023, 0.9120818020291023, 0.9120818020291023, 0.9120818020291023, 0.9120818020291023, 0.9120818020291023, 0.4566355681940677, 0.9120818020291023, 0.9120818020291023, 0.9120818020291023, 0.9120818020291023, 0.9120818020291023, 0.9120818020291023, 0.9120818020291023, 0.9120818020291023, 0.9120818020291023, 0.9120818020291023, 0.9120818020291023, 0.6941933567387186, 0.9120818020291023, 0.9120818020291023, 0.9120818020291023, 0.9120818020291023, 0.9120818020291023, 0.9120818020291023, 0.9120818020291023, 0.9120818020291023, 0.9120818020291023, 0.6941933567387186, 0.9120818020291023, 0.9120818020291023, 0.6941933567387186, 0.9120818020291023, 0.9120818020291023, 0.29319824086036217, 0.9120818020291023, 0.9120818020291023, 0.4566355681940677, 0.9120818020291023, 0.9120818020291023, 0.9120818020291023, 0.5597259957417253, 0.9120818020291023, 0.9120818020291023, 0.9120818020291023, 0.9120818020291023, 0.9120818020291023, 0.9120818020291023, 0.9120818020291023, 0.9120818020291023, 0.9120818020291023, 0.9120818020291023, 0.6941933567387186, 0.9120818020291023, 0.9120818020291023, 0.9120818020291023, 0.9120818020291023, 0.6941933567387186, 0.9120818020291023, 0.9120818020291023, 0.9120818020291023, 0.9120818020291023, 0.9120818020291023, 0.9120818020291023, 0.9120818020291023, 0.9120818020291023, 0.9120818020291023, 0.9120818020291023, 0.9120818020291023, 0.6941933567387186, 0.29319824086036217, 0.9120818020291023, 0.9120818020291023, 0.9120818020291023, 0.9120818020291023, 0.9120818020291023, 0.9120818020291023, 0.6941933567387186, 0.9120818020291023, 0.9120818020291023, 0.9120818020291023, 0.9120818020291023, 0.6941933567387186, 0.9120818020291023]\n",
            "Top classes:  tensor([3., 3., 3., 3., 3., 3., 3., 3., 3., 3., 3., 3., 3., 3., 3., 3., 3., 3.,\n",
            "        3., 3., 3., 3., 3., 3., 3., 3., 3., 3., 3., 3., 3., 3., 3., 3., 3., 3.,\n",
            "        3., 3., 3., 3., 3., 3., 3., 3., 3., 3., 3., 3., 3., 3., 3., 3., 3., 3.,\n",
            "        3., 3., 3., 3., 3., 3., 3., 3., 3., 3., 3., 3., 3., 3., 3., 3., 3., 3.,\n",
            "        3., 3., 3., 3., 3., 3., 3., 3., 3., 3., 3., 3., 3., 3., 3., 3., 3., 3.,\n",
            "        3., 3., 3., 3., 3., 3., 3., 3., 3., 3.], device='cuda:0',\n",
            "       dtype=torch.float64)\n",
            "Y classes:  tensor([3, 8, 8, 0, 6, 6, 1, 6, 3, 1, 0, 9, 5, 7, 9, 8, 5, 7, 8, 6, 7, 0, 4, 9,\n",
            "        5, 2, 4, 0, 9, 6, 6, 5, 4, 5, 9, 2, 4, 1, 9, 5, 4, 6, 5, 6, 0, 9, 3, 9,\n",
            "        7, 6, 9, 8, 0, 3, 8, 8, 7, 7, 4, 6, 7, 3, 6, 3, 6, 2, 1, 2, 3, 7, 2, 6,\n",
            "        8, 8, 0, 2, 9, 3, 3, 8, 8, 1, 1, 7, 2, 5, 2, 7, 8, 9, 0, 3, 8, 6, 4, 6,\n",
            "        6, 0, 0, 7], device='cuda:0')\n",
            "Average radious found by certify: 0.8696405518054963\n",
            "Accuracy found by certify function: 10.00%\n",
            "Files already downloaded and verified\n",
            "Clean accuracy: 100.00%\n",
            "using custom version including apgd-ce, apgd-dlr.\n",
            "initial accuracy: 100.00%\n",
            "apgd-ce - 1/1 - 2 out of 20 successfully perturbed\n",
            "robust accuracy after APGD-CE: 90.00% (total time 7.7 s)\n",
            "apgd-dlr - 1/1 - 0 out of 18 successfully perturbed\n",
            "robust accuracy after APGD-DLR: 90.00% (total time 15.9 s)\n",
            "max L2 perturbation: 0.50000, nan in tensor: 0, max: 1.00000, min: 0.00000\n",
            "robust accuracy: 90.00%\n",
            "Adversarial accuracy: 90.00%\n",
            "Epoch: [0][0/16]\tTime 0.177 (0.177)\tData 0.140 (0.140)\tLoss 0.1777 (0.1777)\tAcc@1 93.750 (93.750)\tAcc@5 100.000 (100.000)\n",
            "Epoch: [0][1/16]\tTime 0.042 (0.109)\tData 0.012 (0.076)\tLoss 0.6715 (0.4246)\tAcc@1 79.688 (86.719)\tAcc@5 96.875 (98.438)\n",
            "Epoch: [0][2/16]\tTime 0.056 (0.091)\tData 0.001 (0.051)\tLoss 0.2285 (0.3592)\tAcc@1 93.750 (89.062)\tAcc@5 100.000 (98.958)\n",
            "Epoch: [0][3/16]\tTime 0.055 (0.082)\tData 0.002 (0.039)\tLoss 0.7118 (0.4474)\tAcc@1 82.812 (87.500)\tAcc@5 98.438 (98.828)\n",
            "Epoch: [0][4/16]\tTime 0.056 (0.077)\tData 0.005 (0.032)\tLoss 0.2836 (0.4146)\tAcc@1 92.188 (88.438)\tAcc@5 100.000 (99.062)\n",
            "Epoch: [0][5/16]\tTime 0.052 (0.073)\tData 0.002 (0.027)\tLoss 0.4133 (0.4144)\tAcc@1 84.375 (87.760)\tAcc@5 100.000 (99.219)\n",
            "Epoch: [0][6/16]\tTime 0.053 (0.070)\tData 0.002 (0.023)\tLoss 0.2908 (0.3967)\tAcc@1 89.062 (87.946)\tAcc@5 100.000 (99.330)\n",
            "Epoch: [0][7/16]\tTime 0.055 (0.068)\tData 0.002 (0.021)\tLoss 0.2131 (0.3738)\tAcc@1 95.312 (88.867)\tAcc@5 100.000 (99.414)\n",
            "Epoch: [0][8/16]\tTime 0.054 (0.067)\tData 0.002 (0.019)\tLoss 0.1998 (0.3544)\tAcc@1 95.312 (89.583)\tAcc@5 100.000 (99.479)\n",
            "Epoch: [0][9/16]\tTime 0.053 (0.065)\tData 0.002 (0.017)\tLoss 0.1610 (0.3351)\tAcc@1 95.312 (90.156)\tAcc@5 100.000 (99.531)\n",
            "Epoch: [0][10/16]\tTime 0.054 (0.064)\tData 0.002 (0.016)\tLoss 0.2391 (0.3264)\tAcc@1 90.625 (90.199)\tAcc@5 100.000 (99.574)\n",
            "Epoch: [0][11/16]\tTime 0.054 (0.063)\tData 0.003 (0.015)\tLoss 0.1674 (0.3131)\tAcc@1 93.750 (90.495)\tAcc@5 100.000 (99.609)\n",
            "Epoch: [0][12/16]\tTime 0.054 (0.063)\tData 0.002 (0.014)\tLoss 0.4163 (0.3211)\tAcc@1 89.062 (90.385)\tAcc@5 100.000 (99.639)\n",
            "Epoch: [0][13/16]\tTime 0.055 (0.062)\tData 0.002 (0.013)\tLoss 0.2329 (0.3148)\tAcc@1 92.188 (90.513)\tAcc@5 100.000 (99.665)\n",
            "Epoch: [0][14/16]\tTime 0.054 (0.061)\tData 0.002 (0.012)\tLoss 0.1707 (0.3052)\tAcc@1 93.750 (90.729)\tAcc@5 100.000 (99.688)\n",
            "Epoch: [0][15/16]\tTime 0.050 (0.061)\tData 0.002 (0.011)\tLoss 0.4283 (0.3101)\tAcc@1 90.000 (90.700)\tAcc@5 100.000 (99.700)\n",
            "Epoch: [0][0/16]\tTime 0.154 (0.154)\tData 0.138 (0.138)\tLoss 0.8404 (0.8404)\tAcc@1 81.250 (81.250)\tAcc@5 93.750 (93.750)\n",
            "Epoch: [0][1/16]\tTime 0.030 (0.092)\tData 0.014 (0.076)\tLoss 0.7405 (0.7905)\tAcc@1 79.688 (80.469)\tAcc@5 96.875 (95.312)\n",
            "Epoch: [0][2/16]\tTime 0.022 (0.069)\tData 0.002 (0.051)\tLoss 0.6167 (0.7326)\tAcc@1 79.688 (80.208)\tAcc@5 100.000 (96.875)\n",
            "Epoch: [0][3/16]\tTime 0.024 (0.058)\tData 0.003 (0.039)\tLoss 0.6547 (0.7131)\tAcc@1 79.688 (80.078)\tAcc@5 98.438 (97.266)\n",
            "Epoch: [0][4/16]\tTime 0.024 (0.051)\tData 0.009 (0.033)\tLoss 0.6737 (0.7052)\tAcc@1 75.000 (79.062)\tAcc@5 100.000 (97.812)\n",
            "Epoch: [0][5/16]\tTime 0.028 (0.047)\tData 0.006 (0.029)\tLoss 0.7466 (0.7121)\tAcc@1 76.562 (78.646)\tAcc@5 100.000 (98.177)\n",
            "Epoch: [0][6/16]\tTime 0.020 (0.043)\tData 0.002 (0.025)\tLoss 0.9196 (0.7417)\tAcc@1 73.438 (77.902)\tAcc@5 96.875 (97.991)\n",
            "Epoch: [0][7/16]\tTime 0.025 (0.041)\tData 0.010 (0.023)\tLoss 0.7121 (0.7380)\tAcc@1 76.562 (77.734)\tAcc@5 100.000 (98.242)\n",
            "Epoch: [0][8/16]\tTime 0.018 (0.038)\tData 0.003 (0.021)\tLoss 0.6581 (0.7292)\tAcc@1 82.812 (78.299)\tAcc@5 98.438 (98.264)\n",
            "Epoch: [0][9/16]\tTime 0.018 (0.036)\tData 0.002 (0.019)\tLoss 0.6427 (0.7205)\tAcc@1 81.250 (78.594)\tAcc@5 100.000 (98.438)\n",
            "Epoch: [0][10/16]\tTime 0.019 (0.035)\tData 0.003 (0.017)\tLoss 1.0298 (0.7486)\tAcc@1 67.188 (77.557)\tAcc@5 96.875 (98.295)\n",
            "Epoch: [0][11/16]\tTime 0.018 (0.033)\tData 0.002 (0.016)\tLoss 0.6140 (0.7374)\tAcc@1 84.375 (78.125)\tAcc@5 96.875 (98.177)\n",
            "Epoch: [0][12/16]\tTime 0.018 (0.032)\tData 0.002 (0.015)\tLoss 1.1776 (0.7713)\tAcc@1 65.625 (77.163)\tAcc@5 98.438 (98.197)\n",
            "Epoch: [0][13/16]\tTime 0.018 (0.031)\tData 0.002 (0.014)\tLoss 0.7046 (0.7665)\tAcc@1 73.438 (76.897)\tAcc@5 98.438 (98.214)\n",
            "Epoch: [0][14/16]\tTime 0.018 (0.030)\tData 0.002 (0.013)\tLoss 0.6491 (0.7587)\tAcc@1 82.812 (77.292)\tAcc@5 95.312 (98.021)\n",
            "Epoch: [0][15/16]\tTime 0.013 (0.029)\tData 0.002 (0.013)\tLoss 0.7076 (0.7566)\tAcc@1 85.000 (77.600)\tAcc@5 97.500 (98.000)\n",
            "Epoch: [1][0/16]\tTime 0.162 (0.162)\tData 0.131 (0.131)\tLoss 0.2805 (0.2805)\tAcc@1 89.062 (89.062)\tAcc@5 100.000 (100.000)\n",
            "Epoch: [1][1/16]\tTime 0.045 (0.103)\tData 0.008 (0.070)\tLoss 0.3311 (0.3058)\tAcc@1 85.938 (87.500)\tAcc@5 100.000 (100.000)\n",
            "Epoch: [1][2/16]\tTime 0.055 (0.087)\tData 0.001 (0.047)\tLoss 0.2857 (0.2991)\tAcc@1 89.062 (88.021)\tAcc@5 98.438 (99.479)\n",
            "Epoch: [1][3/16]\tTime 0.055 (0.079)\tData 0.002 (0.036)\tLoss 0.1121 (0.2523)\tAcc@1 100.000 (91.016)\tAcc@5 100.000 (99.609)\n",
            "Epoch: [1][4/16]\tTime 0.055 (0.074)\tData 0.002 (0.029)\tLoss 0.2691 (0.2557)\tAcc@1 92.188 (91.250)\tAcc@5 100.000 (99.688)\n",
            "Epoch: [1][5/16]\tTime 0.054 (0.071)\tData 0.002 (0.025)\tLoss 0.2498 (0.2547)\tAcc@1 89.062 (90.885)\tAcc@5 100.000 (99.740)\n",
            "Epoch: [1][6/16]\tTime 0.054 (0.069)\tData 0.002 (0.021)\tLoss 0.1288 (0.2367)\tAcc@1 96.875 (91.741)\tAcc@5 100.000 (99.777)\n",
            "Epoch: [1][7/16]\tTime 0.054 (0.067)\tData 0.002 (0.019)\tLoss 0.2123 (0.2337)\tAcc@1 92.188 (91.797)\tAcc@5 100.000 (99.805)\n",
            "Epoch: [1][8/16]\tTime 0.053 (0.065)\tData 0.002 (0.017)\tLoss 0.1800 (0.2277)\tAcc@1 93.750 (92.014)\tAcc@5 100.000 (99.826)\n",
            "Epoch: [1][9/16]\tTime 0.054 (0.064)\tData 0.002 (0.016)\tLoss 0.1623 (0.2212)\tAcc@1 96.875 (92.500)\tAcc@5 100.000 (99.844)\n",
            "Epoch: [1][10/16]\tTime 0.058 (0.064)\tData 0.002 (0.014)\tLoss 0.2224 (0.2213)\tAcc@1 95.312 (92.756)\tAcc@5 100.000 (99.858)\n",
            "Epoch: [1][11/16]\tTime 0.053 (0.063)\tData 0.003 (0.013)\tLoss 0.1199 (0.2128)\tAcc@1 96.875 (93.099)\tAcc@5 100.000 (99.870)\n",
            "Epoch: [1][12/16]\tTime 0.052 (0.062)\tData 0.002 (0.013)\tLoss 0.1523 (0.2082)\tAcc@1 95.312 (93.269)\tAcc@5 100.000 (99.880)\n",
            "Epoch: [1][13/16]\tTime 0.056 (0.062)\tData 0.002 (0.012)\tLoss 0.1623 (0.2049)\tAcc@1 96.875 (93.527)\tAcc@5 100.000 (99.888)\n",
            "Epoch: [1][14/16]\tTime 0.054 (0.061)\tData 0.002 (0.011)\tLoss 0.3680 (0.2158)\tAcc@1 85.938 (93.021)\tAcc@5 100.000 (99.896)\n",
            "Epoch: [1][15/16]\tTime 0.049 (0.060)\tData 0.002 (0.011)\tLoss 0.4372 (0.2246)\tAcc@1 82.500 (92.600)\tAcc@5 100.000 (99.900)\n",
            "Epoch: [1][0/16]\tTime 0.136 (0.136)\tData 0.117 (0.117)\tLoss 0.7083 (0.7083)\tAcc@1 81.250 (81.250)\tAcc@5 95.312 (95.312)\n",
            "Epoch: [1][1/16]\tTime 0.040 (0.088)\tData 0.025 (0.071)\tLoss 0.6310 (0.6697)\tAcc@1 82.812 (82.031)\tAcc@5 96.875 (96.094)\n",
            "Epoch: [1][2/16]\tTime 0.017 (0.064)\tData 0.001 (0.048)\tLoss 0.6545 (0.6646)\tAcc@1 78.125 (80.729)\tAcc@5 100.000 (97.396)\n",
            "Epoch: [1][3/16]\tTime 0.025 (0.054)\tData 0.009 (0.038)\tLoss 0.6748 (0.6672)\tAcc@1 79.688 (80.469)\tAcc@5 96.875 (97.266)\n",
            "Epoch: [1][4/16]\tTime 0.019 (0.047)\tData 0.002 (0.031)\tLoss 0.3382 (0.6014)\tAcc@1 85.938 (81.562)\tAcc@5 100.000 (97.812)\n",
            "Epoch: [1][5/16]\tTime 0.020 (0.043)\tData 0.004 (0.026)\tLoss 0.6122 (0.6032)\tAcc@1 81.250 (81.510)\tAcc@5 100.000 (98.177)\n",
            "Epoch: [1][6/16]\tTime 0.018 (0.039)\tData 0.001 (0.023)\tLoss 0.6204 (0.6056)\tAcc@1 79.688 (81.250)\tAcc@5 100.000 (98.438)\n",
            "Epoch: [1][7/16]\tTime 0.025 (0.037)\tData 0.009 (0.021)\tLoss 0.4831 (0.5903)\tAcc@1 85.938 (81.836)\tAcc@5 100.000 (98.633)\n",
            "Epoch: [1][8/16]\tTime 0.026 (0.036)\tData 0.010 (0.020)\tLoss 0.3944 (0.5685)\tAcc@1 85.938 (82.292)\tAcc@5 98.438 (98.611)\n",
            "Epoch: [1][9/16]\tTime 0.022 (0.035)\tData 0.007 (0.018)\tLoss 0.3417 (0.5459)\tAcc@1 89.062 (82.969)\tAcc@5 100.000 (98.750)\n",
            "Epoch: [1][10/16]\tTime 0.017 (0.033)\tData 0.001 (0.017)\tLoss 0.9705 (0.5845)\tAcc@1 71.875 (81.960)\tAcc@5 93.750 (98.295)\n",
            "Epoch: [1][11/16]\tTime 0.018 (0.032)\tData 0.003 (0.016)\tLoss 0.6542 (0.5903)\tAcc@1 84.375 (82.161)\tAcc@5 96.875 (98.177)\n",
            "Epoch: [1][12/16]\tTime 0.024 (0.031)\tData 0.008 (0.015)\tLoss 1.0217 (0.6235)\tAcc@1 81.250 (82.091)\tAcc@5 95.312 (97.957)\n",
            "Epoch: [1][13/16]\tTime 0.017 (0.030)\tData 0.002 (0.014)\tLoss 0.5363 (0.6172)\tAcc@1 82.812 (82.143)\tAcc@5 100.000 (98.103)\n",
            "Epoch: [1][14/16]\tTime 0.018 (0.029)\tData 0.003 (0.013)\tLoss 0.5602 (0.6134)\tAcc@1 85.938 (82.396)\tAcc@5 100.000 (98.229)\n",
            "Epoch: [1][15/16]\tTime 0.012 (0.028)\tData 0.001 (0.013)\tLoss 0.5968 (0.6128)\tAcc@1 85.000 (82.500)\tAcc@5 97.500 (98.200)\n",
            "Epoch: [2][0/16]\tTime 0.184 (0.184)\tData 0.122 (0.122)\tLoss 0.3140 (0.3140)\tAcc@1 90.625 (90.625)\tAcc@5 98.438 (98.438)\n",
            "Epoch: [2][1/16]\tTime 0.035 (0.110)\tData 0.005 (0.064)\tLoss 0.1803 (0.2471)\tAcc@1 96.875 (93.750)\tAcc@5 100.000 (99.219)\n",
            "Epoch: [2][2/16]\tTime 0.052 (0.091)\tData 0.004 (0.044)\tLoss 0.1626 (0.2189)\tAcc@1 92.188 (93.229)\tAcc@5 100.000 (99.479)\n",
            "Epoch: [2][3/16]\tTime 0.055 (0.082)\tData 0.003 (0.034)\tLoss 0.2394 (0.2241)\tAcc@1 92.188 (92.969)\tAcc@5 100.000 (99.609)\n",
            "Epoch: [2][4/16]\tTime 0.054 (0.076)\tData 0.001 (0.027)\tLoss 0.2070 (0.2206)\tAcc@1 92.188 (92.812)\tAcc@5 100.000 (99.688)\n",
            "Epoch: [2][5/16]\tTime 0.056 (0.073)\tData 0.002 (0.023)\tLoss 0.1858 (0.2148)\tAcc@1 93.750 (92.969)\tAcc@5 100.000 (99.740)\n",
            "Epoch: [2][6/16]\tTime 0.053 (0.070)\tData 0.002 (0.020)\tLoss 0.2544 (0.2205)\tAcc@1 93.750 (93.080)\tAcc@5 100.000 (99.777)\n",
            "Epoch: [2][7/16]\tTime 0.053 (0.068)\tData 0.002 (0.018)\tLoss 0.1334 (0.2096)\tAcc@1 96.875 (93.555)\tAcc@5 100.000 (99.805)\n",
            "Epoch: [2][8/16]\tTime 0.054 (0.066)\tData 0.002 (0.016)\tLoss 0.1045 (0.1979)\tAcc@1 98.438 (94.097)\tAcc@5 100.000 (99.826)\n",
            "Epoch: [2][9/16]\tTime 0.055 (0.065)\tData 0.010 (0.015)\tLoss 0.1569 (0.1938)\tAcc@1 95.312 (94.219)\tAcc@5 100.000 (99.844)\n",
            "Epoch: [2][10/16]\tTime 0.054 (0.064)\tData 0.002 (0.014)\tLoss 0.1784 (0.1924)\tAcc@1 93.750 (94.176)\tAcc@5 100.000 (99.858)\n",
            "Epoch: [2][11/16]\tTime 0.054 (0.063)\tData 0.002 (0.013)\tLoss 0.1933 (0.1925)\tAcc@1 93.750 (94.141)\tAcc@5 100.000 (99.870)\n",
            "Epoch: [2][12/16]\tTime 0.054 (0.063)\tData 0.002 (0.012)\tLoss 0.1911 (0.1924)\tAcc@1 90.625 (93.870)\tAcc@5 100.000 (99.880)\n",
            "Epoch: [2][13/16]\tTime 0.054 (0.062)\tData 0.002 (0.012)\tLoss 0.2177 (0.1942)\tAcc@1 93.750 (93.862)\tAcc@5 100.000 (99.888)\n",
            "Epoch: [2][14/16]\tTime 0.054 (0.061)\tData 0.002 (0.011)\tLoss 0.1440 (0.1908)\tAcc@1 93.750 (93.854)\tAcc@5 100.000 (99.896)\n",
            "Epoch: [2][15/16]\tTime 0.049 (0.061)\tData 0.002 (0.010)\tLoss 0.1769 (0.1903)\tAcc@1 95.000 (93.900)\tAcc@5 100.000 (99.900)\n",
            "Epoch: [2][0/16]\tTime 0.153 (0.153)\tData 0.134 (0.134)\tLoss 0.7579 (0.7579)\tAcc@1 81.250 (81.250)\tAcc@5 96.875 (96.875)\n",
            "Epoch: [2][1/16]\tTime 0.026 (0.090)\tData 0.011 (0.073)\tLoss 0.5518 (0.6549)\tAcc@1 81.250 (81.250)\tAcc@5 100.000 (98.438)\n",
            "Epoch: [2][2/16]\tTime 0.032 (0.070)\tData 0.011 (0.052)\tLoss 0.6502 (0.6533)\tAcc@1 78.125 (80.208)\tAcc@5 100.000 (98.958)\n",
            "Epoch: [2][3/16]\tTime 0.021 (0.058)\tData 0.005 (0.040)\tLoss 0.6857 (0.6614)\tAcc@1 76.562 (79.297)\tAcc@5 98.438 (98.828)\n",
            "Epoch: [2][4/16]\tTime 0.029 (0.052)\tData 0.014 (0.035)\tLoss 0.5761 (0.6443)\tAcc@1 78.125 (79.062)\tAcc@5 100.000 (99.062)\n",
            "Epoch: [2][5/16]\tTime 0.023 (0.047)\tData 0.008 (0.031)\tLoss 0.5152 (0.6228)\tAcc@1 81.250 (79.427)\tAcc@5 100.000 (99.219)\n",
            "Epoch: [2][6/16]\tTime 0.023 (0.044)\tData 0.007 (0.027)\tLoss 0.5902 (0.6182)\tAcc@1 78.125 (79.241)\tAcc@5 100.000 (99.330)\n",
            "Epoch: [2][7/16]\tTime 0.020 (0.041)\tData 0.004 (0.024)\tLoss 0.4937 (0.6026)\tAcc@1 84.375 (79.883)\tAcc@5 100.000 (99.414)\n",
            "Epoch: [2][8/16]\tTime 0.023 (0.039)\tData 0.006 (0.022)\tLoss 0.3492 (0.5745)\tAcc@1 89.062 (80.903)\tAcc@5 100.000 (99.479)\n",
            "Epoch: [2][9/16]\tTime 0.019 (0.037)\tData 0.002 (0.020)\tLoss 0.4286 (0.5599)\tAcc@1 85.938 (81.406)\tAcc@5 100.000 (99.531)\n",
            "Epoch: [2][10/16]\tTime 0.027 (0.036)\tData 0.011 (0.019)\tLoss 0.8851 (0.5894)\tAcc@1 68.750 (80.256)\tAcc@5 96.875 (99.290)\n",
            "Epoch: [2][11/16]\tTime 0.018 (0.034)\tData 0.002 (0.018)\tLoss 0.5352 (0.5849)\tAcc@1 87.500 (80.859)\tAcc@5 98.438 (99.219)\n",
            "Epoch: [2][12/16]\tTime 0.018 (0.033)\tData 0.002 (0.017)\tLoss 0.9336 (0.6117)\tAcc@1 76.562 (80.529)\tAcc@5 98.438 (99.159)\n",
            "Epoch: [2][13/16]\tTime 0.018 (0.032)\tData 0.002 (0.016)\tLoss 0.5141 (0.6048)\tAcc@1 84.375 (80.804)\tAcc@5 100.000 (99.219)\n",
            "Epoch: [2][14/16]\tTime 0.019 (0.031)\tData 0.002 (0.015)\tLoss 0.6032 (0.6047)\tAcc@1 84.375 (81.042)\tAcc@5 98.438 (99.167)\n",
            "Epoch: [2][15/16]\tTime 0.013 (0.030)\tData 0.002 (0.014)\tLoss 0.4338 (0.5978)\tAcc@1 90.000 (81.400)\tAcc@5 97.500 (99.100)\n",
            "Radiuses list:  [0.5597259957417253, 0.6941933567387186, 0.36997102622737066, 0.15654623462461537, 0.03082540396796217, 0.0, 0.4566355681940677, 0.15654623462461537, 0.9120818020291023, 0.0, 0.0, 0.9120818020291023, 0.5597259957417253, 0.9120818020291023, 0.5597259957417253, 0.36997102622737066, 0.6941933567387186, 0.0, 0.9120818020291023, 0.36997102622737066, 0.0, 0.5597259957417253, 0.6941933567387186, 0.0, 0.5597259957417253, 0.22278781708280393, 0.0, 0.9120818020291023, 0.15654623462461537, 0.03082540396796217, 0.0, 0.36997102622737066, 0.03082540396796217, 0.9120818020291023, 0.0, 0.22278781708280393, 0.4566355681940677, 0.15654623462461537, 0.0929495639834118, 0.9120818020291023, 0.4566355681940677, 0.0, 0.15654623462461537, 0.0929495639834118, 0.5597259957417253, 0.0, 0.6941933567387186, 0.6941933567387186, 0.9120818020291023, 0.0, 0.03082540396796217, 0.22278781708280393, 0.6941933567387186, 0.9120818020291023, 0.5597259957417253, 0.9120818020291023, 0.9120818020291023, 0.29319824086036217, 0.9120818020291023, 0.0, 0.4566355681940677, 0.0929495639834118, 0.0, 0.0, 0.4566355681940677, 0.0, 0.0, 0.29319824086036217, 0.9120818020291023, 0.9120818020291023, 0.0, 0.0, 0.9120818020291023, 0.9120818020291023, 0.4566355681940677, 0.22278781708280393, 0.4566355681940677, 0.9120818020291023, 0.9120818020291023, 0.36997102622737066, 0.4566355681940677, 0.0, 0.15654623462461537, 0.6941933567387186, 0.15654623462461537, 0.0, 0.6941933567387186, 0.9120818020291023, 0.9120818020291023, 0.0929495639834118, 0.9120818020291023, 0.0, 0.9120818020291023, 0.9120818020291023, 0.15654623462461537, 0.6941933567387186, 0.22278781708280393, 0.15654623462461537, 0.9120818020291023, 0.22278781708280393]\n",
            "Top classes:  tensor([ 5.,  8.,  8.,  0.,  4., -1.,  5.,  4.,  5., -1., -1.,  9.,  5.,  7.,\n",
            "         9.,  8.,  5., -1.,  8.,  5., -1.,  0.,  0., -1.,  4.,  4., -1.,  0.,\n",
            "         3.,  4., -1.,  4.,  5.,  3., -1.,  3.,  4.,  0.,  5.,  5.,  0., -1.,\n",
            "         5.,  6.,  0., -1.,  5.,  5.,  4., -1.,  8.,  8.,  5.,  5.,  8.,  8.,\n",
            "         5.,  5.,  5., -1.,  4.,  5., -1., -1.,  6., -1., -1.,  2.,  5.,  7.,\n",
            "        -1., -1.,  8.,  8.,  0.,  2.,  0.,  5.,  5.,  8.,  8., -1.,  0.,  5.,\n",
            "         2., -1.,  5.,  8.,  8.,  8.,  0., -1.,  8.,  6.,  4.,  5.,  6.,  5.,\n",
            "         0.,  7.], device='cuda:0', dtype=torch.float64)\n",
            "Y classes:  tensor([3, 8, 8, 0, 6, 6, 1, 6, 3, 1, 0, 9, 5, 7, 9, 8, 5, 7, 8, 6, 7, 0, 4, 9,\n",
            "        5, 2, 4, 0, 9, 6, 6, 5, 4, 5, 9, 2, 4, 1, 9, 5, 4, 6, 5, 6, 0, 9, 3, 9,\n",
            "        7, 6, 9, 8, 0, 3, 8, 8, 7, 7, 4, 6, 7, 3, 6, 3, 6, 2, 1, 2, 3, 7, 2, 6,\n",
            "        8, 8, 0, 2, 9, 3, 3, 8, 8, 1, 1, 7, 2, 5, 2, 7, 8, 9, 0, 3, 8, 6, 4, 6,\n",
            "        6, 0, 0, 7], device='cuda:0')\n",
            "Average radious found by certify: 0.413858639523387\n",
            "Accuracy found by certify function: 38.00%\n",
            "Files already downloaded and verified\n",
            "Clean accuracy: 20.00%\n",
            "using custom version including apgd-ce, apgd-dlr.\n",
            "initial accuracy: 20.00%\n",
            "apgd-ce - 1/1 - 0 out of 4 successfully perturbed\n",
            "robust accuracy after APGD-CE: 20.00% (total time 4.7 s)\n",
            "apgd-dlr - 1/1 - 0 out of 4 successfully perturbed\n",
            "robust accuracy after APGD-DLR: 20.00% (total time 9.5 s)\n",
            "max L2 perturbation: 0.00000, nan in tensor: 0, max: 1.00000, min: 0.00000\n",
            "robust accuracy: 20.00%\n",
            "Adversarial accuracy: 20.00%\n"
          ]
        }
      ]
    },
    {
      "cell_type": "markdown",
      "source": [
        "Linf"
      ],
      "metadata": {
        "id": "fajFJ2DaI5x1"
      }
    },
    {
      "cell_type": "code",
      "source": [
        "# Model loading\n",
        "#model_2_Linf = load_configure_model(name='Sehwag2021Proxy', dataset='cifar10', threat_model='Linf', device=device)\n",
        "# ResNet18\n",
        "model_2_Linf = load_configure_model(name='Sehwag2021Proxy_R18', dataset='cifar10', threat_model='L2', device=device)\n",
        "\n",
        "# Test on stock model\n",
        "test_model(model_2_Linf, sigma, x_test, y_test, 'Linf', ThreatModel.Linf, n_examples, eps_Linf, batch_size, device, version, attacks_to_run)\n",
        "\n",
        "# Smoothed model training\n",
        "smoothed_model_2_Linf = train_model(trainloader, testloader, model_2_Linf, epochs, sigma, device)\n",
        "\n",
        "# Test on smoothed model\n",
        "test_model(smoothed_model_2_Linf, sigma, x_test, y_test, 'Linf', ThreatModel.Linf, n_examples, eps_Linf, batch_size, device, version, attacks_to_run)"
      ],
      "metadata": {
        "id": "mAv_TuSXtC9H",
        "colab": {
          "base_uri": "https://localhost:8080/",
          "height": 219
        },
        "outputId": "91c03470-ed6c-4cb7-fd82-08052d5d5947"
      },
      "execution_count": 16,
      "outputs": [
        {
          "output_type": "error",
          "ename": "NameError",
          "evalue": "name 'model_2_Linf' is not defined",
          "traceback": [
            "\u001b[0;31m---------------------------------------------------------------------------\u001b[0m",
            "\u001b[0;31mNameError\u001b[0m                                 Traceback (most recent call last)",
            "\u001b[0;32m<ipython-input-16-f12c47332d1a>\u001b[0m in \u001b[0;36m<cell line: 7>\u001b[0;34m()\u001b[0m\n\u001b[1;32m      5\u001b[0m \u001b[0;34m\u001b[0m\u001b[0m\n\u001b[1;32m      6\u001b[0m \u001b[0;31m# Test on stock model\u001b[0m\u001b[0;34m\u001b[0m\u001b[0;34m\u001b[0m\u001b[0m\n\u001b[0;32m----> 7\u001b[0;31m \u001b[0mtest_model\u001b[0m\u001b[0;34m(\u001b[0m\u001b[0mmodel_2_Linf\u001b[0m\u001b[0;34m,\u001b[0m \u001b[0msigma\u001b[0m\u001b[0;34m,\u001b[0m \u001b[0mx_test\u001b[0m\u001b[0;34m,\u001b[0m \u001b[0my_test\u001b[0m\u001b[0;34m,\u001b[0m \u001b[0;34m'Linf'\u001b[0m\u001b[0;34m,\u001b[0m \u001b[0mThreatModel\u001b[0m\u001b[0;34m.\u001b[0m\u001b[0mLinf\u001b[0m\u001b[0;34m,\u001b[0m \u001b[0mn_examples\u001b[0m\u001b[0;34m,\u001b[0m \u001b[0meps_Linf\u001b[0m\u001b[0;34m,\u001b[0m \u001b[0mbatch_size\u001b[0m\u001b[0;34m,\u001b[0m \u001b[0mdevice\u001b[0m\u001b[0;34m,\u001b[0m \u001b[0mversion\u001b[0m\u001b[0;34m,\u001b[0m \u001b[0mattacks_to_run\u001b[0m\u001b[0;34m)\u001b[0m\u001b[0;34m\u001b[0m\u001b[0;34m\u001b[0m\u001b[0m\n\u001b[0m\u001b[1;32m      8\u001b[0m \u001b[0;34m\u001b[0m\u001b[0m\n\u001b[1;32m      9\u001b[0m \u001b[0;31m# Smoothed model training\u001b[0m\u001b[0;34m\u001b[0m\u001b[0;34m\u001b[0m\u001b[0m\n",
            "\u001b[0;31mNameError\u001b[0m: name 'model_2_Linf' is not defined"
          ]
        }
      ]
    },
    {
      "cell_type": "markdown",
      "source": [
        "# MMA Training: Direct Input Space Margin Maximization through Adversarial Training (WideResNet-28-4)"
      ],
      "metadata": {
        "id": "I2nOuLxdeSz6"
      }
    },
    {
      "cell_type": "markdown",
      "source": [
        "L2"
      ],
      "metadata": {
        "id": "R-6Nq9NPJ_Jj"
      }
    },
    {
      "cell_type": "code",
      "source": [
        "# Model loading\n",
        "model_3_L2 = load_configure_model(name='Ding2020MMA', dataset='cifar10', threat_model='L2', device=device)\n",
        "\n",
        "# Test on stock model\n",
        "test_model(model_3_L2, sigma, x_test, y_test, 'L2', ThreatModel.L2, n_examples, eps_L2, batch_size, device, version, attacks_to_run)\n",
        "\n",
        "# Smoothed model training\n",
        "smoothed_model_3_L2 = train_model(trainloader, testloader, model_3_L2, epochs, sigma, device)\n",
        "\n",
        "# Test on smoothed model\n",
        "test_model(smoothed_model_3_L2, sigma, x_test, y_test, 'L2', ThreatModel.L2, n_examples, eps_L2, batch_size, device, version, attacks_to_run)"
      ],
      "metadata": {
        "id": "SA8WQsoZeWIc"
      },
      "execution_count": null,
      "outputs": []
    },
    {
      "cell_type": "markdown",
      "source": [
        "Linf"
      ],
      "metadata": {
        "id": "n4dNHMZQKP9D"
      }
    },
    {
      "cell_type": "code",
      "source": [
        "# Model loading\n",
        "model_3_Linf = load_configure_model(name='Ding2020MMA', dataset='cifar10', threat_model='Linf', device=device)\n",
        "\n",
        "# Test on stock model\n",
        "test_model(model_3_Linf, sigma, x_test, y_test, 'Linf', ThreatModel.Linf, n_examples, eps_Linf, batch_size, device, version, attacks_to_run)\n",
        "\n",
        "# Smoothed model training\n",
        "smoothed_model_3_Linf = train_model(trainloader, testloader, model_3_Linf, epochs, sigma, device)\n",
        "\n",
        "# Test on smoothed model\n",
        "test_model(smoothed_model_3_Linf, sigma, x_test, y_test, 'Linf', ThreatModel.Linf, n_examples, eps_Linf, batch_size, device, version, attacks_to_run)"
      ],
      "metadata": {
        "id": "DbXlugPutzr6"
      },
      "execution_count": null,
      "outputs": []
    }
  ]
}